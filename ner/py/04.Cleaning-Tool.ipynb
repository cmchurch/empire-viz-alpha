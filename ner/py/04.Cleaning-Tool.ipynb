{
 "cells": [
  {
   "cell_type": "code",
   "execution_count": null,
   "metadata": {
    "collapsed": false,
    "deletable": true,
    "editable": true
   },
   "outputs": [],
   "source": [
    "from IPython.core.display import display, HTML\n",
    "display(HTML(\"<style>.container { width:100% !important; }</style>\")) #increase the width of the IPYTHON Cells\n",
    "display(HTML(\"<style>div.output_scroll { height:600px; !important; }</style>\"))\n",
    "display(HTML(\"<style>.custom { display:none; !important; }</style>\"))\n",
    "\n",
    "\n",
    "\n",
    "HTML('''<script>\n",
    "\n",
    "code_show=true; \n",
    "function code_toggle() {\n",
    " if (code_show){\n",
    " $('div.input').hide();\n",
    " } else {\n",
    " $('div.input').show();\n",
    " }\n",
    " code_show = !code_show\n",
    "} \n",
    "$( document ).ready(code_toggle);\n",
    "</script>\n",
    "The raw code for this IPython notebook is by default hidden for easier reading.\n",
    "To toggle on/off the raw code, click <a href=\"javascript:code_toggle()\">here</a>.''')"
   ]
  },
  {
   "cell_type": "code",
   "execution_count": null,
   "metadata": {
    "collapsed": true
   },
   "outputs": [],
   "source": []
  },
  {
   "cell_type": "code",
   "execution_count": null,
   "metadata": {
    "collapsed": false,
    "deletable": true,
    "editable": true
   },
   "outputs": [],
   "source": [
    "import pandas as pd\n",
    "from mpl_toolkits.basemap import Basemap\n",
    "import matplotlib.pyplot as plt\n",
    "from ipywidgets import widgets, Button\n",
    "from IPython.display import display, clear_output"
   ]
  },
  {
   "cell_type": "code",
   "execution_count": null,
   "metadata": {
    "collapsed": false,
    "deletable": true,
    "editable": true
   },
   "outputs": [],
   "source": [
    "%matplotlib inline\n",
    "\n",
    "root_path = \"I:/Dropbox/NDAD/Visualizing-Empire/OpeNER/Output/\"\n",
    "geocode_master_list_path = root_path + \"geocode/location.masterlist.tsv.geocoded.csv\"\n",
    "kwic_list_path = root_path + \"kwic/kwic-merged/kwic-cleaned/aggregate_all-years_KWIC_minimally-cleaned_2.tsv\"\n",
    "\n",
    "geocode_master_list = pd.read_csv(geocode_master_list_path)\n",
    "kwic_list = pd.read_csv(kwic_list_path,sep='\\t')"
   ]
  },
  {
   "cell_type": "code",
   "execution_count": null,
   "metadata": {
    "collapsed": false,
    "deletable": true,
    "editable": true
   },
   "outputs": [],
   "source": [
    "def get_lat_lon(key):\n",
    "    key = int(key)\n",
    "    lat = geocode_master_list.get_value(key,\"LAT\")\n",
    "    lat_text.value = unicode(lat)\n",
    "    lon = geocode_master_list.get_value(key,\"LON\")\n",
    "    lon_text.value = unicode(lon)\n",
    "    return lat,lon\n",
    "\n",
    "def create_map(lat,lon):\n",
    "    m = Basemap(projection='mill',lon_0=0)\n",
    "    fig = plt.figure(figsize=(12,5))\n",
    "    m.drawcoastlines(linewidth=\"0.1\")\n",
    "    x,y = m(lon,lat)\n",
    "    m.plot(x, y, 'ko', markersize=10)\n",
    "    plt.show()\n",
    "\n",
    "def display_KWIC(kwic_list,term):\n",
    "    term=term.lower()\n",
    "    kwics = kwic_list[kwic_list['TERM']==term]\n",
    "    notification.value=unicode(str(len(kwics.index))+\" terms found.\")\n",
    "    for index,kwic in kwics.iterrows():\n",
    "        try:\n",
    "            kwic_split = kwic[\"KWIC\"].split(\" \")\n",
    "            first_half = \" \".join(kwic_split[0:14])\n",
    "            keyword = kwic_split[15]\n",
    "            second_half =\" \".join(kwic_split[16:])\n",
    "            display(HTML('<span id=\"'+str(index)+'\">'+'<button onclick=\"var kernel=IPython.notebook.kernel;kernel.execute(\\'delete_line.value=str('+str(index)+')\\');$(\\'#'+str(index)+\n",
    "                         '\\').css(\\'display\\', \\'none\\');$(\\'.delete-line-button\\').click();\">X</button>'+\n",
    "                        '<span style=\"width:50px;display:inline-block;font-style:italic;\">'+str(index)+'</span><span style=\"padding-left:10px;width:650px;display:inline-block;\">'+first_half.decode(\"utf8\")+'</span>'\n",
    "                        +'<span style=\"font-weight:bold;display:inline-block;width:200px;\">'+keyword.decode('utf8')+'</span><span>'+second_half.decode('utf8')+'</span></span>'+\"<hr/>\")) #print the KWIC\n",
    "        except:\n",
    "            print \"error!\"\n",
    "            \n",
    "\n",
    "def handle_submit(sender):\n",
    "    clear_output()\n",
    "    notification.value = unicode(\"\")\n",
    "    try:\n",
    "        lat,lon = get_lat_lon(text.value)\n",
    "        term = get_term(text.value)\n",
    "        display(HTML('<h1>'+term.decode('utf8')+'</h1>'))\n",
    "        create_map(lat,lon)\n",
    "        display_KWIC(kwic_list,term)\n",
    "    except:\n",
    "        notification.value = unicode(\"Index not found\")\n",
    "    \n",
    "def increment_text(sender):\n",
    "    while int(text.value) <= len(geocode_master_list):\n",
    "        text.value=unicode(int(text.value) + 1)\n",
    "        try:\n",
    "            print geocode_master_list.get_value(int(text.value),\"LOC\")\n",
    "            break\n",
    "        except:\n",
    "            continue\n",
    "    handle_submit(sender)\n",
    "\n",
    "def decrease_text(sender):\n",
    "    while int(text.value) >= 0:\n",
    "        text.value=unicode(int(text.value) - 1)\n",
    "        try:\n",
    "            print geocode_master_list.get_value(int(text.value),\"LOC\")\n",
    "            break\n",
    "        except:\n",
    "            continue\n",
    "    handle_submit(sender)\n",
    "        \n",
    "def export_clicked(sender):\n",
    "    geocode_master_list.to_csv(root_path+\"geocode_master_cleaned.csv\",index=False)\n",
    "    kwic_list.to_csv(root_path+\"kwic_list_cleaned.tsv\",sep=\"\\t\",index=False)\n",
    "    notification.value = unicode(\"Geocode Master List and KWIC List Exported\")\n",
    "\n",
    "def delete_clicked(sender):\n",
    "    term = get_term(text.value)\n",
    "    global kwic_list,geocode_master_list\n",
    "    kwic_list = kwic_list[kwic_list['TERM']!=term]\n",
    "    geocode_master_list = geocode_master_list[geocode_master_list['LOC']!=term]\n",
    "    notification.value = unicode(term + \" deleted from data frames.\")\n",
    "    increment_text(sender)\n",
    "    \n",
    "def get_term(key):\n",
    "    key = int(key)\n",
    "    return geocode_master_list.get_value(key,\"LOC\")\n",
    "\n",
    "def change_coords(sender):\n",
    "    geocode_master_list.loc[int(text.value),\"LAT\"] = float(lat_text.value)\n",
    "    geocode_master_list.loc[int(text.value),\"LON\"] = float(lon_text.value)\n",
    "    notification.value = unicode(\"Coordinates Changed!\")\n",
    "    \n",
    "def return_index(sender):\n",
    "    try:\n",
    "        mask = geocode_master_list[\"LOC\"].str.match(term_search.value, case=False,na=False)\n",
    "        index = geocode_master_list[mask].index.values[0]\n",
    "        text.value=unicode(index)\n",
    "        handle_submit(sender)\n",
    "    except:\n",
    "        notification.value = unicode(\"Not found!\")\n",
    "\n",
    "def delete_line_clicked(sender):\n",
    "    kwic_list.drop(int(delete_line.value),inplace=True)\n",
    "    notification.value = unicode(\"Deleted row: \"+str(delete_line.value))"
   ]
  },
  {
   "cell_type": "code",
   "execution_count": null,
   "metadata": {
    "collapsed": false,
    "deletable": true,
    "editable": true,
    "scrolled": false
   },
   "outputs": [],
   "source": [
    "text = widgets.Text(value=\"0\",width=\"120px\")\n",
    "submit = widgets.Button(description=\"Submit\",width=\"70px\")\n",
    "next_button = widgets.Button(description=\">>\",width=\"40px\",id=\"prev\")\n",
    "prev_button = widgets.Button(description=\"<<\",width=\"40px\")\n",
    "delete = widgets.Button(description=\"Delete\",width=\"60px\")\n",
    "export = widgets.Button(description=\"Save\",width=\"60px\")\n",
    "delete_line = widgets.Text(value=\"0\",width=\"120px\",_dom_classes=(\"delete-line\",\"custom\"))\n",
    "delete_line_button = widgets.Button(description=\"delete line\",width=\"120px\",_dom_classes=(\"delete-line-button\",\"custom\"))\n",
    "\n",
    "coords_button = widgets.Button(description=\"ChangeCoords\",width=\"120px\")\n",
    "lat_text = widgets.Text(width=\"200px\",description=\"Lat\")\n",
    "lon_text = widgets.Text(width=\"200px\",description=\"Lon\")\n",
    "notification = widgets.HTML()\n",
    "term_search=widgets.Text(value=\"\",width=\"240px\",description=\"\\t \")\n",
    "term_search_button=widgets.Button(value=\"\",width=\"70px\",description=\"Search\")\n",
    "\n",
    "\n",
    "\n",
    "display(widgets.HBox((prev_button,next_button,text,submit,delete,export,lat_text,lon_text,coords_button,term_search,term_search_button)))\n",
    "display(widgets.HBox((delete_line,delete_line_button)))\n",
    "display(notification)\n",
    "\n",
    "text.on_submit(handle_submit)\n",
    "submit.on_click(handle_submit)\n",
    "next_button.on_click(increment_text)\n",
    "prev_button.on_click(decrease_text)\n",
    "export.on_click(export_clicked)\n",
    "delete.on_click(delete_clicked)\n",
    "coords_button.on_click(change_coords)\n",
    "term_search_button.on_click(return_index)\n",
    "term_search.on_submit(return_index)\n",
    "delete_line_button.on_click(delete_line_clicked)\n",
    "\n",
    "notification.value = unicode(\"Click Submit to Begin!\")"
   ]
  },
  {
   "cell_type": "code",
   "execution_count": null,
   "metadata": {
    "collapsed": false,
    "deletable": true,
    "editable": true
   },
   "outputs": [],
   "source": [
    "kwic_list.drop(140586,inplace=True)"
   ]
  },
  {
   "cell_type": "code",
   "execution_count": null,
   "metadata": {
    "collapsed": true
   },
   "outputs": [],
   "source": []
  }
 ],
 "metadata": {
  "kernelspec": {
   "display_name": "Python 2",
   "language": "python",
   "name": "python2"
  },
  "language_info": {
   "codemirror_mode": {
    "name": "ipython",
    "version": 2
   },
   "file_extension": ".py",
   "mimetype": "text/x-python",
   "name": "python",
   "nbconvert_exporter": "python",
   "pygments_lexer": "ipython2",
   "version": "2.7.13"
  },
  "widgets": {
   "state": {
    "254b37367fe24606bf763f4bf5970ed0": {
     "views": [
      {
       "cell_index": 5
      }
     ]
    },
    "2aca6b00f7574f1a8b52cfda3eb92f1a": {
     "views": [
      {
       "cell_index": 4
      }
     ]
    },
    "4f9f2ad2f1db4821be30450e1627ec70": {
     "views": [
      {
       "cell_index": 5
      }
     ]
    },
    "50cc1b5efcc94109a240c6c0df39516c": {
     "views": [
      {
       "cell_index": 5
      }
     ]
    },
    "89426d10e878470e979f723bfb7114e6": {
     "views": [
      {
       "cell_index": 5
      }
     ]
    },
    "af63a7977d754ab597167fa2caa15207": {
     "views": [
      {
       "cell_index": 5
      }
     ]
    },
    "bc8a8eff66304ddfb23538fb8795fd87": {
     "views": [
      {
       "cell_index": 4
      }
     ]
    },
    "c0b41ed6916d44fd8345208a45513be5": {
     "views": [
      {
       "cell_index": 5
      }
     ]
    },
    "c29202a18f084fb6bbf871aad39d8594": {
     "views": [
      {
       "cell_index": 5
      }
     ]
    },
    "e42e391bfd2b443daa2fb4cdac43f5dc": {
     "views": [
      {
       "cell_index": 5
      }
     ]
    }
   },
   "version": "1.2.0"
  }
 },
 "nbformat": 4,
 "nbformat_minor": 0
}
