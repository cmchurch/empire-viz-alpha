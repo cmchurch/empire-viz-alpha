{
 "cells": [
  {
   "cell_type": "code",
   "execution_count": null,
   "metadata": {
    "collapsed": false
   },
   "outputs": [],
   "source": [
    "from IPython.core.display import display, HTML\n",
    "display(HTML(\"<style>.container { width:100% !important; }</style>\")) #increase the width of the IPYTHON Cells\n",
    "HTML('''<script>\n",
    "\n",
    "code_show=true; \n",
    "function code_toggle() {\n",
    " if (code_show){\n",
    " $('div.input').hide();\n",
    " } else {\n",
    " $('div.input').show();\n",
    " }\n",
    " code_show = !code_show\n",
    "} \n",
    "$( document ).ready(code_toggle);\n",
    "</script>\n",
    "The raw code for this IPython notebook is by default hidden for easier reading.\n",
    "To toggle on/off the raw code, click <a href=\"javascript:code_toggle()\">here</a>.''')"
   ]
  },
  {
   "cell_type": "code",
   "execution_count": null,
   "metadata": {
    "collapsed": false,
    "deletable": true,
    "editable": true
   },
   "outputs": [],
   "source": [
    "import pandas as pd\n",
    "from mpl_toolkits.basemap import Basemap\n",
    "import matplotlib.pyplot as plt\n",
    "from ipywidgets import widgets, Button\n",
    "from IPython.display import display, clear_output"
   ]
  },
  {
   "cell_type": "code",
   "execution_count": null,
   "metadata": {
    "collapsed": false,
    "deletable": true,
    "editable": true
   },
   "outputs": [],
   "source": [
    "%matplotlib inline\n",
    "\n",
    "root_path = \"I:/Dropbox/NDAD/Visualizing-Empire/OpeNER/Output/\"\n",
    "geocode_master_list_path = root_path + \"geocode/location.masterlist.tsv.geocoded.csv\"\n",
    "kwic_list_path = root_path + \"kwic/kwic-merged/kwic-cleaned/aggregate_all-years_KWIC_minimally-cleaned_2.tsv\"\n",
    "\n",
    "geocode_master_list = pd.read_csv(geocode_master_list_path)\n",
    "kwic_list = pd.read_csv(kwic_list_path,sep='\\t')"
   ]
  },
  {
   "cell_type": "code",
   "execution_count": null,
   "metadata": {
    "collapsed": false,
    "deletable": true,
    "editable": true
   },
   "outputs": [],
   "source": [
    "def get_lat_lon(key):\n",
    "    key = int(key)\n",
    "    term = geocode_master_list.get_value(key,\"LOC\")\n",
    "    lat = geocode_master_list.get_value(key,\"LAT\")\n",
    "    lat_text.value = unicode(lat)\n",
    "    lon = geocode_master_list.get_value(key,\"LON\")\n",
    "    lon_text.value = unicode(lon)\n",
    "    return lat,lon,term\n",
    "\n",
    "def create_map(lat,lon):\n",
    "    m = Basemap(projection='mill',lon_0=0)\n",
    "    fig = plt.figure(figsize=(12,5))\n",
    "    m.drawcoastlines(linewidth=\"0.1\")\n",
    "    x,y = m(lon,lat)\n",
    "    m.plot(x, y, 'ko', markersize=10)\n",
    "    plt.show()\n",
    "\n",
    "def display_KWIC(kwic_list,term):\n",
    "    term=term.lower()\n",
    "    ucase_term=term.upper()\n",
    "    changed_kwics=[]\n",
    "    kwics = kwic_list[kwic_list['TERM']==term]\n",
    "    i=0\n",
    "    for kwic in kwics[\"KWIC\"]:\n",
    "        i+=1\n",
    "        kwic_split = kwic.split(ucase_term)\n",
    "        try:\n",
    "            display(HTML('<span style=\"width:650px;display:inline-block;\">'+kwic_split[0].decode('utf8')+\n",
    "                         '</span>'+'<span style=\"font-weight:bold;display:inline-block;width:200px;\">'+ucase_term.decode('utf8')+'</span>'+kwic_split[1].decode('utf8')+'</span>')) #print the KWIC\n",
    "        except:\n",
    "            changed_kwics.append(kwic)\n",
    "        if i > 10: break\n",
    "    for kwic in changed_kwics:\n",
    "        print kwic\n",
    "\n",
    "def handle_submit(sender):\n",
    "    clear_output()\n",
    "    notification.value = unicode(\"\")\n",
    "    try:\n",
    "        lat,lon,term = get_lat_lon(text.value)\n",
    "        display(HTML('<h1>'+term.decode('utf8')+'</h1>'))\n",
    "        create_map(lat,lon)\n",
    "        display_KWIC(kwic_list,term)\n",
    "    except:\n",
    "        notification.value = unicode(\"Index not found\")\n",
    "    \n",
    "def increment_text(sender):\n",
    "    while int(text.value) <= len(geocode_master_list):\n",
    "        text.value=unicode(int(text.value) + 1)\n",
    "        try:\n",
    "            print geocode_master_list.get_value(int(text.value),\"LOC\")\n",
    "            break\n",
    "        except:\n",
    "            continue\n",
    "    handle_submit(sender)\n",
    "\n",
    "def decrease_text(sender):\n",
    "    while int(text.value) >= 0:\n",
    "        text.value=unicode(int(text.value) - 1)\n",
    "        try:\n",
    "            print geocode_master_list.get_value(int(text.value),\"LOC\")\n",
    "            break\n",
    "        except:\n",
    "            continue\n",
    "    handle_submit(sender)\n",
    "        \n",
    "def export_clicked(sender):\n",
    "    geocode_master_list.to_csv(root_path+\"geocode_master_cleaned.csv\",index=False)\n",
    "    kwic_list.to_csv(root_path+\"kwic_list_cleaned.tsv\",sep=\"\\t\",index=False)\n",
    "    notification.value = unicode(\"Geocode Master List and KWIC List Exported\")\n",
    "\n",
    "def delete_clicked(sender):\n",
    "    term = get_term(text.value)\n",
    "    global kwic_list,geocode_master_list\n",
    "    kwic_list = kwic_list[kwic_list['TERM']!=term]\n",
    "    geocode_master_list = geocode_master_list[geocode_master_list['LOC']!=term]\n",
    "    notification.value = unicode(term + \" deleted from data frames.\")\n",
    "    \n",
    "def get_term(key):\n",
    "    key = int(key)\n",
    "    return geocode_master_list.get_value(key,\"LOC\")\n",
    "\n",
    "def change_coords(sender):\n",
    "    geocode_master_list.loc[int(text.value),\"LAT\"] = float(lat_text.value)\n",
    "    geocode_master_list.loc[int(text.value),\"LON\"] = float(lon_text.value)\n",
    "    notification.value = unicode(\"Coordinates Changed!\")"
   ]
  },
  {
   "cell_type": "code",
   "execution_count": null,
   "metadata": {
    "collapsed": false,
    "deletable": true,
    "editable": true
   },
   "outputs": [],
   "source": [
    "text = widgets.Text(value=\"0\",width=\"40px\")\n",
    "submit = widgets.Button(description=\"Submit\",width=\"70px\")\n",
    "next_button = widgets.Button(description=\">>\",width=\"40px\")\n",
    "prev_button = widgets.Button(description=\"<<\",width=\"40px\")\n",
    "delete = widgets.Button(description=\"Delete\",width=\"60px\")\n",
    "export = widgets.Button(description=\"Export\",width=\"60px\")\n",
    "\n",
    "coords_button = widgets.Button(description=\"ChangeCoords\",width=\"120px\")\n",
    "lat_text = widgets.Text(width=\"200px\",description=\"Lat\")\n",
    "lon_text = widgets.Text(width=\"200px\",description=\"Lon\")\n",
    "notification = widgets.Label()\n",
    "\n",
    "display(widgets.HBox((prev_button,next_button,text,submit,delete,export,lat_text,lon_text,coords_button)))\n",
    "display(notification)\n",
    "\n",
    "text.on_submit(handle_submit)\n",
    "submit.on_click(handle_submit)\n",
    "next_button.on_click(increment_text)\n",
    "prev_button.on_click(decrease_text)\n",
    "export.on_click(export_clicked)\n",
    "delete.on_click(delete_clicked)\n",
    "coords_button.on_click(change_coords)\n",
    "\n",
    "notification.value = unicode(\"Click Submit to Begin!\")"
   ]
  },
  {
   "cell_type": "code",
   "execution_count": null,
   "metadata": {
    "collapsed": true
   },
   "outputs": [],
   "source": []
  }
 ],
 "metadata": {
  "kernelspec": {
   "display_name": "Python 2",
   "language": "python",
   "name": "python2"
  },
  "language_info": {
   "codemirror_mode": {
    "name": "ipython",
    "version": 2
   },
   "file_extension": ".py",
   "mimetype": "text/x-python",
   "name": "python",
   "nbconvert_exporter": "python",
   "pygments_lexer": "ipython2",
   "version": "2.7.13"
  },
  "widgets": {
   "state": {
    "0d20757243484ce88214041518b1d5a1": {
     "views": [
      {
       "cell_index": 3
      }
     ]
    },
    "23b6a31def8c4215844d8f05b22b20e7": {
     "views": [
      {
       "cell_index": 3
      }
     ]
    },
    "2759ba30dc6b49288e26dd7acaee1a70": {
     "views": [
      {
       "cell_index": 3
      }
     ]
    },
    "48e928c4b743465898e40456fff05076": {
     "views": [
      {
       "cell_index": 3
      }
     ]
    },
    "7c4991069d2147fab5f25c2573d7164a": {
     "views": [
      {
       "cell_index": 3
      }
     ]
    },
    "93cba93ee9244292b6866a80445b22e2": {
     "views": [
      {
       "cell_index": 3
      }
     ]
    },
    "97671629811945f1b8b5bce251eab002": {
     "views": [
      {
       "cell_index": 3
      }
     ]
    },
    "9a98a855af2e426bab242d1ff3162dfe": {
     "views": [
      {
       "cell_index": 3
      }
     ]
    },
    "a2cbe5c1816f4a54b6bc3842ffa65611": {
     "views": [
      {
       "cell_index": 3
      }
     ]
    },
    "b1ec1dc77e32412dbb4d455905244a8f": {
     "views": [
      {
       "cell_index": 3
      }
     ]
    },
    "d45e0f5ec2ae47acb6424a38f961358a": {
     "views": [
      {
       "cell_index": 3
      }
     ]
    },
    "e3f5f98864164a76a072e4a497943454": {
     "views": [
      {
       "cell_index": 4
      }
     ]
    },
    "f34dfa0450c44ee2a6ff9f0621c7c944": {
     "views": [
      {
       "cell_index": 3
      }
     ]
    },
    "f5ff1585d96a45b9b9a40d50594a1317": {
     "views": [
      {
       "cell_index": 3
      }
     ]
    },
    "fd5d5d20973549839737bc8813488028": {
     "views": [
      {
       "cell_index": 3
      }
     ]
    }
   },
   "version": "1.2.0"
  }
 },
 "nbformat": 4,
 "nbformat_minor": 0
}
