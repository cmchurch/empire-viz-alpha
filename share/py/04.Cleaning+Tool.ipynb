{
 "cells": [
  {
   "cell_type": "code",
   "execution_count": 2,
   "metadata": {
    "collapsed": false,
    "deletable": true,
    "editable": true
   },
   "outputs": [
    {
     "data": {
      "text/html": [
       "<style>.container { width:100% !important; }</style>"
      ],
      "text/plain": [
       "<IPython.core.display.HTML object>"
      ]
     },
     "metadata": {},
     "output_type": "display_data"
    },
    {
     "data": {
      "text/html": [
       "<style>div.output_scroll { height:600px; !important; }</style>"
      ],
      "text/plain": [
       "<IPython.core.display.HTML object>"
      ]
     },
     "metadata": {},
     "output_type": "display_data"
    },
    {
     "data": {
      "text/html": [
       "<script>\n",
       "\n",
       "code_show=true; \n",
       "function code_toggle() {\n",
       " if (code_show){\n",
       " $('div.input').hide();\n",
       " } else {\n",
       " $('div.input').show();\n",
       " }\n",
       " code_show = !code_show\n",
       "} \n",
       "$( document ).ready(code_toggle);\n",
       "</script>\n",
       "The raw code for this IPython notebook is by default hidden for easier reading.\n",
       "To toggle on/off the raw code, click <a href=\"javascript:code_toggle()\">here</a>."
      ],
      "text/plain": [
       "<IPython.core.display.HTML object>"
      ]
     },
     "execution_count": 2,
     "metadata": {},
     "output_type": "execute_result"
    }
   ],
   "source": [
    "from IPython.core.display import display, HTML\n",
    "display(HTML(\"<style>.container { width:100% !important; }</style>\")) #increase the width of the IPYTHON Cells\n",
    "display(HTML(\"<style>div.output_scroll { height:600px; !important; }</style>\"))\n",
    "\n",
    "\n",
    "\n",
    "HTML('''<script>\n",
    "\n",
    "code_show=true; \n",
    "function code_toggle() {\n",
    " if (code_show){\n",
    " $('div.input').hide();\n",
    " } else {\n",
    " $('div.input').show();\n",
    " }\n",
    " code_show = !code_show\n",
    "} \n",
    "$( document ).ready(code_toggle);\n",
    "</script>\n",
    "The raw code for this IPython notebook is by default hidden for easier reading.\n",
    "To toggle on/off the raw code, click <a href=\"javascript:code_toggle()\">here</a>.''')"
   ]
  },
  {
   "cell_type": "code",
   "execution_count": 3,
   "metadata": {
    "collapsed": false,
    "deletable": true,
    "editable": true
   },
   "outputs": [],
   "source": [
    "import pandas as pd\n",
    "from mpl_toolkits.basemap import Basemap\n",
    "import matplotlib.pyplot as plt\n",
    "from ipywidgets import widgets, Button\n",
    "from IPython.display import display, clear_output"
   ]
  },
  {
   "cell_type": "code",
   "execution_count": 4,
   "metadata": {
    "collapsed": false,
    "deletable": true,
    "editable": true
   },
   "outputs": [],
   "source": [
    "%matplotlib inline\n",
    "\n",
    "root_path = \"I:/Dropbox/NDAD/Visualizing-Empire/OpeNER/Output/\"\n",
    "geocode_master_list_path = root_path + \"geocode/location.masterlist.tsv.geocoded.csv\"\n",
    "kwic_list_path = root_path + \"kwic/kwic-merged/kwic-cleaned/aggregate_all-years_KWIC_minimally-cleaned_2.tsv\"\n",
    "\n",
    "geocode_master_list = pd.read_csv(geocode_master_list_path)\n",
    "kwic_list = pd.read_csv(kwic_list_path,sep='\\t')"
   ]
  },
  {
   "cell_type": "code",
   "execution_count": 5,
   "metadata": {
    "collapsed": false,
    "deletable": true,
    "editable": true
   },
   "outputs": [],
   "source": [
    "def get_lat_lon(key):\n",
    "    key = int(key)\n",
    "    lat = geocode_master_list.get_value(key,\"LAT\")\n",
    "    lat_text.value = unicode(lat)\n",
    "    lon = geocode_master_list.get_value(key,\"LON\")\n",
    "    lon_text.value = unicode(lon)\n",
    "    return lat,lon\n",
    "\n",
    "def create_map(lat,lon):\n",
    "    m = Basemap(projection='mill',lon_0=0)\n",
    "    fig = plt.figure(figsize=(12,5))\n",
    "    m.drawcoastlines(linewidth=\"0.1\")\n",
    "    x,y = m(lon,lat)\n",
    "    m.plot(x, y, 'ko', markersize=10)\n",
    "    plt.show()\n",
    "\n",
    "def display_KWIC(kwic_list,term):\n",
    "    term=term.lower()\n",
    "    kwics = kwic_list[kwic_list['TERM']==term]\n",
    "    notification.value=unicode(str(len(kwics.index))+\" terms found.\")\n",
    "    for index,kwic in kwics.iterrows():\n",
    "        try:\n",
    "            kwic_split = kwic[\"KWIC\"].split(\" \")\n",
    "            first_half = \" \".join(kwic_split[0:14])\n",
    "            keyword = kwic_split[15]\n",
    "            second_half =\" \".join(kwic_split[16:])\n",
    "            display(HTML('<span style=\"width:50px;display:inline-block;font-style:italic;\" id=\"'+str(index)+'\">'+str(index)+'</span><span style=\"padding-left:10px;width:650px;display:inline-block;\">'+first_half.decode(\"utf8\")+'</span>'\n",
    "                        +'<span style=\"font-weight:bold;display:inline-block;width:200px;\">'+keyword.decode('utf8')+'</span><span>'+second_half.decode('utf8')+'</span>'+\"<hr/>\")) #print the KWIC\n",
    "        except:\n",
    "            print \"error!\"\n",
    "            \n",
    "\n",
    "def handle_submit(sender):\n",
    "    clear_output()\n",
    "    notification.value = unicode(\"\")\n",
    "    try:\n",
    "        lat,lon = get_lat_lon(text.value)\n",
    "        term = get_term(text.value)\n",
    "        display(HTML('<h1>'+term.decode('utf8')+'</h1>'))\n",
    "        create_map(lat,lon)\n",
    "        display_KWIC(kwic_list,term)\n",
    "    except:\n",
    "        notification.value = unicode(\"Index not found\")\n",
    "    \n",
    "def increment_text(sender):\n",
    "    while int(text.value) <= len(geocode_master_list):\n",
    "        text.value=unicode(int(text.value) + 1)\n",
    "        try:\n",
    "            print geocode_master_list.get_value(int(text.value),\"LOC\")\n",
    "            break\n",
    "        except:\n",
    "            continue\n",
    "    handle_submit(sender)\n",
    "\n",
    "def decrease_text(sender):\n",
    "    while int(text.value) >= 0:\n",
    "        text.value=unicode(int(text.value) - 1)\n",
    "        try:\n",
    "            print geocode_master_list.get_value(int(text.value),\"LOC\")\n",
    "            break\n",
    "        except:\n",
    "            continue\n",
    "    handle_submit(sender)\n",
    "        \n",
    "def export_clicked(sender):\n",
    "    geocode_master_list.to_csv(root_path+\"geocode_master_cleaned.csv\",index=False)\n",
    "    kwic_list.to_csv(root_path+\"kwic_list_cleaned.tsv\",sep=\"\\t\",index=False)\n",
    "    notification.value = unicode(\"Geocode Master List and KWIC List Exported\")\n",
    "\n",
    "def delete_clicked(sender):\n",
    "    term = get_term(text.value)\n",
    "    global kwic_list,geocode_master_list\n",
    "    kwic_list = kwic_list[kwic_list['TERM']!=term]\n",
    "    geocode_master_list = geocode_master_list[geocode_master_list['LOC']!=term]\n",
    "    notification.value = unicode(term + \" deleted from data frames.\")\n",
    "    \n",
    "def get_term(key):\n",
    "    key = int(key)\n",
    "    return geocode_master_list.get_value(key,\"LOC\")\n",
    "\n",
    "def change_coords(sender):\n",
    "    geocode_master_list.loc[int(text.value),\"LAT\"] = float(lat_text.value)\n",
    "    geocode_master_list.loc[int(text.value),\"LON\"] = float(lon_text.value)\n",
    "    notification.value = unicode(\"Coordinates Changed!\")\n",
    "    \n",
    "def search_terms(sender):\n",
    "    geocode_master_list.loc[int(text.value),\"LAT\"] = float(lat_text.value)\n",
    "    geocode_master_list.loc[int(text.value),\"LON\"] = float(lon_text.value)\n",
    "    notification.value = unicode(\"Coordinates Changed!\")\n",
    "    \n",
    "def return_index(sender):\n",
    "    try:\n",
    "        mask = geocode_master_list[\"LOC\"].str.match(term_search.value, case=False,na=False)\n",
    "        index = geocode_master_list[mask].index.values[0]\n",
    "#       index = geocode_master_list[geocode_master_list[\"LOC\"]==term_search.value].index.values[0]\n",
    "        text.value=unicode(index)\n",
    "        handle_submit(sender)\n",
    "    except:\n",
    "        notification.value = unicode(\"Not found!\")"
   ]
  },
  {
   "cell_type": "code",
   "execution_count": 6,
   "metadata": {
    "collapsed": false,
    "deletable": true,
    "editable": true,
    "scrolled": false
   },
   "outputs": [
    {
     "data": {
      "text/html": [
       "<h1>Washington</h1>"
      ],
      "text/plain": [
       "<IPython.core.display.HTML object>"
      ]
     },
     "metadata": {},
     "output_type": "display_data"
    },
    {
     "data": {
      "image/png": "[encoded data removed]",
      "text/plain": [
       "<matplotlib.figure.Figure at 0x9ca6438>"
      ]
     },
     "metadata": {},
     "output_type": "display_data"
    },
    {
     "data": {
      "text/html": [
       "<span style=\"width:50px;display:inline-block;font-style:italic;\" id=\"10573\">10573</span><span style=\"padding-left:10px;width:650px;display:inline-block;\">tonn . ; 3,200 ch. la ? ayette : 3,600 tonn . ; 3,200</span><span style=\"font-weight:bold;display:inline-block;width:200px;\">WASHINGTON</span><span>: 3,600 tonn . ; 3 , £ 00 ch. olindo-rodrigue : 3,200 tonn </span><hr/>"
      ],
      "text/plain": [
       "<IPython.core.display.HTML object>"
      ]
     },
     "metadata": {},
     "output_type": "display_data"
    },
    {
     "data": {
      "text/html": [
       "<span style=\"width:50px;display:inline-block;font-style:italic;\" id=\"12471\">12471</span><span style=\"padding-left:10px;width:650px;display:inline-block;\">les récents événements du vénézuéla et de cuba prouvent que les hommes d' état</span><span style=\"font-weight:bold;display:inline-block;width:200px;\">WASHINGTON</span><span>ne verraient pas d' un œil indifférent que le japon menaçât hawaï . le </span><hr/>"
      ],
      "text/plain": [
       "<IPython.core.display.HTML object>"
      ]
     },
     "metadata": {},
     "output_type": "display_data"
    },
    {
     "data": {
      "text/html": [
       "<span style=\"width:50px;display:inline-block;font-style:italic;\" id=\"14704\">14704</span><span style=\"padding-left:10px;width:650px;display:inline-block;\">les lies hawaï aux états-unis a été signé , le 16 juin dernier ,</span><span style=\"font-weight:bold;display:inline-block;width:200px;\">WASHINGTON</span><span>. tous les hawaïens , excepté les habitants d' origine chinoise , deviennent sujets </span><hr/>"
      ],
      "text/plain": [
       "<IPython.core.display.HTML object>"
      ]
     },
     "metadata": {},
     "output_type": "display_data"
    },
    {
     "data": {
      "text/html": [
       "<span style=\"width:50px;display:inline-block;font-style:italic;\" id=\"15756\">15756</span><span style=\"padding-left:10px;width:650px;display:inline-block;\">jeu no io , propoté h 8. aûtu 1807 . un do nos collaborateurs</span><span style=\"font-weight:bold;display:inline-block;width:200px;\">WASHINGTON</span><span>; — lyon ; » landerneau ; — yonne ; — angleterre ; — </span><hr/>"
      ],
      "text/plain": [
       "<IPython.core.display.HTML object>"
      ]
     },
     "metadata": {},
     "output_type": "display_data"
    },
    {
     "data": {
      "text/html": [
       "<span style=\"width:50px;display:inline-block;font-style:italic;\" id=\"17323\">17323</span><span style=\"padding-left:10px;width:650px;display:inline-block;\">, n' a pas eu besoin d' attendre les observations d' un astronome de</span><span style=\"font-weight:bold;display:inline-block;width:200px;\">WASHINGTON</span><span>( ville qui n' existait point alors ) , pour nous apprendre que notre \"</span><hr/>"
      ],
      "text/plain": [
       "<IPython.core.display.HTML object>"
      ]
     },
     "metadata": {},
     "output_type": "display_data"
    },
    {
     "data": {
      "text/html": [
       "<span style=\"width:50px;display:inline-block;font-style:italic;\" id=\"20921\">20921</span><span style=\"padding-left:10px;width:650px;display:inline-block;\">pas peu etonns d' apercevoir le long du warf qui faisait suite a la</span><span style=\"font-weight:bold;display:inline-block;width:200px;\">WASHINGTON</span><span>, un splendide navire de l. voir les a ° 799 a 8l0 . </span><hr/>"
      ],
      "text/plain": [
       "<IPython.core.display.HTML object>"
      ]
     },
     "metadata": {},
     "output_type": "display_data"
    },
    {
     "data": {
      "text/html": [
       "<span style=\"width:50px;display:inline-block;font-style:italic;\" id=\"23158\">23158</span><span style=\"padding-left:10px;width:650px;display:inline-block;\">rapport k la situation des chutes , aurait eu lieu a environ vingt kilometres</span><span style=\"font-weight:bold;display:inline-block;width:200px;\">WASHINGTON</span><span>. i lis avaient devant eux quinze jeunes. hommes de douze k quinze ans </span><hr/>"
      ],
      "text/plain": [
       "<IPython.core.display.HTML object>"
      ]
     },
     "metadata": {},
     "output_type": "display_data"
    },
    {
     "data": {
      "text/html": [
       "<span style=\"width:50px;display:inline-block;font-style:italic;\" id=\"25127\">25127</span><span style=\"padding-left:10px;width:650px;display:inline-block;\">nant confines dans une de ces reserves- souricieres , oil le grand pre blanc</span><span style=\"font-weight:bold;display:inline-block;width:200px;\">WASHINGTON</span><span>a coutume de parquer ses t enfants rouges afin deles mieux tenir sa discretion </span><hr/>"
      ],
      "text/plain": [
       "<IPython.core.display.HTML object>"
      ]
     },
     "metadata": {},
     "output_type": "display_data"
    },
    {
     "data": {
      "text/html": [
       "<span style=\"width:50px;display:inline-block;font-style:italic;\" id=\"25230\">25230</span><span style=\"padding-left:10px;width:650px;display:inline-block;\">je fais mettre lembargo sur le navire par les soins de lambassadeur de prance</span><span style=\"font-weight:bold;display:inline-block;width:200px;\">WASHINGTON</span><span>, qui a requ des instructions dans ce sens . on fait une perquisition </span><hr/>"
      ],
      "text/plain": [
       "<IPython.core.display.HTML object>"
      ]
     },
     "metadata": {},
     "output_type": "display_data"
    },
    {
     "data": {
      "text/html": [
       "<span style=\"width:50px;display:inline-block;font-style:italic;\" id=\"25231\">25231</span><span style=\"padding-left:10px;width:650px;display:inline-block;\">a la mainlevee de la saisie , jaurai re § u de notre ambassadeur</span><span style=\"font-weight:bold;display:inline-block;width:200px;\">WASHINGTON</span><span>les pieces dont jai besoin . agissons done , pour ne pas perdre de </span><hr/>"
      ],
      "text/plain": [
       "<IPython.core.display.HTML object>"
      ]
     },
     "metadata": {},
     "output_type": "display_data"
    },
    {
     "data": {
      "text/html": [
       "<span style=\"width:50px;display:inline-block;font-style:italic;\" id=\"26288\">26288</span><span style=\"padding-left:10px;width:650px;display:inline-block;\">graph e entre le consulat general de france a san-francisco , et notre legation.</span><span style=\"font-weight:bold;display:inline-block;width:200px;\">WASHINGTON</span><span>. — ne m' interromps pas , je t' en sap- plie . toutes </span><hr/>"
      ],
      "text/plain": [
       "<IPython.core.display.HTML object>"
      ]
     },
     "metadata": {},
     "output_type": "display_data"
    },
    {
     "data": {
      "text/html": [
       "<span style=\"width:50px;display:inline-block;font-style:italic;\" id=\"26290\">26290</span><span style=\"padding-left:10px;width:650px;display:inline-block;\">but que de t' empecher de partir en attendant que le gouverne ¬ ment</span><span style=\"font-weight:bold;display:inline-block;width:200px;\">WASHINGTON</span><span>autorise le sequestre de ton navire , et ton arrestation avec tous ¬ les </span><hr/>"
      ],
      "text/plain": [
       "<IPython.core.display.HTML object>"
      ]
     },
     "metadata": {},
     "output_type": "display_data"
    },
    {
     "data": {
      "text/html": [
       "<span style=\"width:50px;display:inline-block;font-style:italic;\" id=\"26295\">26295</span><span style=\"padding-left:10px;width:650px;display:inline-block;\">ordre de mettre l' em- bargo sur le navire chinois , etait enfin arrive</span><span style=\"font-weight:bold;display:inline-block;width:200px;\">WASHINGTON</span><span>, et comme pour confirmer cette nouvelle une canoniere des etatrf-unis qui se trouvait </span><hr/>"
      ],
      "text/plain": [
       "<IPython.core.display.HTML object>"
      ]
     },
     "metadata": {},
     "output_type": "display_data"
    },
    {
     "data": {
      "text/html": [
       "<span style=\"width:50px;display:inline-block;font-style:italic;\" id=\"28835\">28835</span><span style=\"padding-left:10px;width:650px;display:inline-block;\">est une puissance quune personne sensse ne doit pas ngliger dans la patrie du</span><span style=\"font-weight:bold;display:inline-block;width:200px;\">WASHINGTON</span><span>... , ici — vous avez compris cela — nul ne se meprend sur </span><hr/>"
      ],
      "text/plain": [
       "<IPython.core.display.HTML object>"
      ]
     },
     "metadata": {},
     "output_type": "display_data"
    },
    {
     "data": {
      "text/html": [
       "<span style=\"width:50px;display:inline-block;font-style:italic;\" id=\"31440\">31440</span><span style=\"padding-left:10px;width:650px;display:inline-block;\">les nations civilisées . signé , barnahrd , < / article > « secrétaire</span><span style=\"font-weight:bold;display:inline-block;width:200px;\">WASHINGTON</span><span>, pour la guerre et la marine . » < article > il y </span><hr/>"
      ],
      "text/plain": [
       "<IPython.core.display.HTML object>"
      ]
     },
     "metadata": {},
     "output_type": "display_data"
    },
    {
     "data": {
      "text/html": [
       "<span style=\"width:50px;display:inline-block;font-style:italic;\" id=\"32322\">32322</span><span style=\"padding-left:10px;width:650px;display:inline-block;\">; que le lecteur tienne pour certain que , lorsqu' on le voudra bien</span><span style=\"font-weight:bold;display:inline-block;width:200px;\">WASHINGTON</span><span>, saint-thomas , la baie de samana dans ja dominicaine et l' admirable port </span><hr/>"
      ],
      "text/plain": [
       "<IPython.core.display.HTML object>"
      ]
     },
     "metadata": {},
     "output_type": "display_data"
    },
    {
     "data": {
      "text/html": [
       "<span style=\"width:50px;display:inline-block;font-style:italic;\" id=\"35130\">35130</span><span style=\"padding-left:10px;width:650px;display:inline-block;\">. < / article > < article > a travers chicago la mosaïculïultb américaine</span><span style=\"font-weight:bold;display:inline-block;width:200px;\">WASHINGTON</span><span>park est situé à un mille du jackson park , — où s' élève </span><hr/>"
      ],
      "text/plain": [
       "<IPython.core.display.HTML object>"
      ]
     },
     "metadata": {},
     "output_type": "display_data"
    },
    {
     "data": {
      "text/html": [
       "<span style=\"width:50px;display:inline-block;font-style:italic;\" id=\"35134\">35134</span><span style=\"padding-left:10px;width:650px;display:inline-block;\">au printemps et qui ne , peut manquer d' être la grande attraction du</span><span style=\"font-weight:bold;display:inline-block;width:200px;\">WASHINGTON</span><span>. on a vu des distiques fleuris émerger tout entiers des parterres , et </span><hr/>"
      ],
      "text/plain": [
       "<IPython.core.display.HTML object>"
      ]
     },
     "metadata": {},
     "output_type": "display_data"
    },
    {
     "data": {
      "text/html": [
       "<span style=\"width:50px;display:inline-block;font-style:italic;\" id=\"36528\">36528</span><span style=\"padding-left:10px;width:650px;display:inline-block;\">pigeons . a sa sortie de paris , 8 h. 30 du soir ,</span><span style=\"font-weight:bold;display:inline-block;width:200px;\">WASHINGTON</span><span>fut accueilli par une vive fusillade ; mais les voyageurs , ayant sacrifié un </span><hr/>"
      ],
      "text/plain": [
       "<IPython.core.display.HTML object>"
      ]
     },
     "metadata": {},
     "output_type": "display_data"
    },
    {
     "data": {
      "text/html": [
       "<span style=\"width:50px;display:inline-block;font-style:italic;\" id=\"36532\">36532</span><span style=\"padding-left:10px;width:650px;display:inline-block;\">rosbecke et m. le-fèvre , qui , nommé consul à vienne , a demandé</span><span style=\"font-weight:bold;display:inline-block;width:200px;\">WASHINGTON</span><span>un moyen d' aller rejoindre son poste . ce diplomate est pressé d' arriver </span><hr/>"
      ],
      "text/plain": [
       "<IPython.core.display.HTML object>"
      ]
     },
     "metadata": {},
     "output_type": "display_data"
    },
    {
     "data": {
      "text/html": [
       "<span style=\"width:50px;display:inline-block;font-style:italic;\" id=\"36534\">36534</span><span style=\"padding-left:10px;width:650px;display:inline-block;\">moment où bertaux a involontairement lâché prise , délestédu poids de deux hommes ,</span><span style=\"font-weight:bold;display:inline-block;width:200px;\">WASHINGTON</span><span>se redresse et arrache lancre . le traînage recommence furibond , impitoyable , mais </span><hr/>"
      ],
      "text/plain": [
       "<IPython.core.display.HTML object>"
      ]
     },
     "metadata": {},
     "output_type": "display_data"
    },
    {
     "data": {
      "text/html": [
       "<span style=\"width:50px;display:inline-block;font-style:italic;\" id=\"36535\">36535</span><span style=\"padding-left:10px;width:650px;display:inline-block;\">reste cramponné à la corde de soupape . après un traînage fort long ,</span><span style=\"font-weight:bold;display:inline-block;width:200px;\">WASHINGTON</span><span>se précipite sur des arbres et se déchire . van rosbecke , ses dépèches </span><hr/>"
      ],
      "text/plain": [
       "<IPython.core.display.HTML object>"
      ]
     },
     "metadata": {},
     "output_type": "display_data"
    },
    {
     "data": {
      "text/html": [
       "<span style=\"width:50px;display:inline-block;font-style:italic;\" id=\"36729\">36729</span><span style=\"padding-left:10px;width:650px;display:inline-block;\">il paraît que toute la région située à lest des montagnes cascades ( elat</span><span style=\"font-weight:bold;display:inline-block;width:200px;\">WASHINGTON</span><span>) , est infestée depuis quelque temps par des couguars , qui s' aventurent </span><hr/>"
      ],
      "text/plain": [
       "<IPython.core.display.HTML object>"
      ]
     },
     "metadata": {},
     "output_type": "display_data"
    },
    {
     "data": {
      "text/html": [
       "<span style=\"width:50px;display:inline-block;font-style:italic;\" id=\"38493\">38493</span><span style=\"padding-left:10px;width:650px;display:inline-block;\">de vous dans l' amérique du nord ! .. . jamais discussion au capitole</span><span style=\"font-weight:bold;display:inline-block;width:200px;\">WASHINGTON</span><span>n' a soulevé tant de curiosité ... ma parolei lon se figurerait que le </span><hr/>"
      ],
      "text/plain": [
       "<IPython.core.display.HTML object>"
      ]
     },
     "metadata": {},
     "output_type": "display_data"
    },
    {
     "data": {
      "text/html": [
       "<span style=\"width:50px;display:inline-block;font-style:italic;\" id=\"38558\">38558</span><span style=\"padding-left:10px;width:650px;display:inline-block;\">spectateurs qui bordaient la jetée . certes , il ignorait que grôlard eût télégraphié</span><span style=\"font-weight:bold;display:inline-block;width:200px;\">WASHINGTON</span><span>, car le policier avait , envoyé sa dépèche en chiffres au chargé d' </span><hr/>"
      ],
      "text/plain": [
       "<IPython.core.display.HTML object>"
      ]
     },
     "metadata": {},
     "output_type": "display_data"
    },
    {
     "data": {
      "text/html": [
       "<span style=\"width:50px;display:inline-block;font-style:italic;\" id=\"38577\">38577</span><span style=\"padding-left:10px;width:650px;display:inline-block;\">voulait rien faire avant d' avoir reçu des instructions formelles de  son chef</span><span style=\"font-weight:bold;display:inline-block;width:200px;\">WASHINGTON</span><span>etees instructions avaient été demandées , en même temps que celles de grôlard . \"</span><hr/>"
      ],
      "text/plain": [
       "<IPython.core.display.HTML object>"
      ]
     },
     "metadata": {},
     "output_type": "display_data"
    },
    {
     "data": {
      "text/html": [
       "<span style=\"width:50px;display:inline-block;font-style:italic;\" id=\"39774\">39774</span><span style=\"padding-left:10px;width:650px;display:inline-block;\">840 ; le départ de varmand-larhcs , nº 841 et 842 ; le traînage</span><span style=\"font-weight:bold;display:inline-block;width:200px;\">WASHINGTON</span><span>, nes 845 et 846 ; ta perte de la bretagne des 854 ; </span><hr/>"
      ],
      "text/plain": [
       "<IPython.core.display.HTML object>"
      ]
     },
     "metadata": {},
     "output_type": "display_data"
    },
    {
     "data": {
      "text/html": [
       "<span style=\"width:50px;display:inline-block;font-style:italic;\" id=\"40531\">40531</span><span style=\"padding-left:10px;width:650px;display:inline-block;\">en californie ; 9 , 540 , dans l' orégon ; 3 , 260</span><span style=\"font-weight:bold;display:inline-block;width:200px;\">WASHINGTON</span><span>et 2 , 933 à new-york . v. f.-m. petite poste . — m. </span><hr/>"
      ],
      "text/plain": [
       "<IPython.core.display.HTML object>"
      ]
     },
     "metadata": {},
     "output_type": "display_data"
    },
    {
     "data": {
      "text/html": [
       "<span style=\"width:50px;display:inline-block;font-style:italic;\" id=\"40859\">40859</span><span style=\"padding-left:10px;width:650px;display:inline-block;\">de cambrai du 13 septembre , et rapportant ainsi qu' il suit le traînage</span><span style=\"font-weight:bold;display:inline-block;width:200px;\">WASHINGTON</span><span>. « l' aéronaute ßertaux a été saisi par les plis du câble qui </span><hr/>"
      ],
      "text/plain": [
       "<IPython.core.display.HTML object>"
      ]
     },
     "metadata": {},
     "output_type": "display_data"
    },
    {
     "data": {
      "text/html": [
       "<span style=\"width:50px;display:inline-block;font-style:italic;\" id=\"40992\">40992</span><span style=\"padding-left:10px;width:650px;display:inline-block;\">est de l' extrémité méridionale de ja nouvelle-ecosse , à cent kilomètres au large</span><span style=\"font-weight:bold;display:inline-block;width:200px;\">BARRINGTON</span><span>, port canadien , et à trois cents kilomètres au large des côtes des </span><hr/>"
      ],
      "text/plain": [
       "<IPython.core.display.HTML object>"
      ]
     },
     "metadata": {},
     "output_type": "display_data"
    },
    {
     "data": {
      "text/html": [
       "<span style=\"width:50px;display:inline-block;font-style:italic;\" id=\"41383\">41383</span><span style=\"padding-left:10px;width:650px;display:inline-block;\">. pins pleureurs . — dans les forêts de l' orégon , de letat</span><span style=\"font-weight:bold;display:inline-block;width:200px;\">WASHINGTON</span><span>, du monta-na et de la colombie britannique , sont des forêts de sapins </span><hr/>"
      ],
      "text/plain": [
       "<IPython.core.display.HTML object>"
      ]
     },
     "metadata": {},
     "output_type": "display_data"
    },
    {
     "data": {
      "text/html": [
       "<span style=\"width:50px;display:inline-block;font-style:italic;\" id=\"42696\">42696</span><span style=\"padding-left:10px;width:650px;display:inline-block;\">vitres se balance la téte d' un ment du nez .............. 276 la mappemonde</span><span style=\"font-weight:bold;display:inline-block;width:200px;\">WASHINGTON-</span><span>homme barbu , 405 ; — ils ont bien samoa et les samoans . </span><hr/>"
      ],
      "text/plain": [
       "<IPython.core.display.HTML object>"
      ]
     },
     "metadata": {},
     "output_type": "display_data"
    },
    {
     "data": {
      "text/html": [
       "<span style=\"width:50px;display:inline-block;font-style:italic;\" id=\"43924\">43924</span><span style=\"padding-left:10px;width:650px;display:inline-block;\">, les philippines et autres contestations existant entfe les ddux pays , le gouvernement</span><span style=\"font-weight:bold;display:inline-block;width:200px;\">WASHINGTON</span><span>acoordait le transfert des cendres de christophe colotab . la nouvelle se rdpandait aussitdt </span><hr/>"
      ],
      "text/plain": [
       "<IPython.core.display.HTML object>"
      ]
     },
     "metadata": {},
     "output_type": "display_data"
    },
    {
     "data": {
      "text/html": [
       "<span style=\"width:50px;display:inline-block;font-style:italic;\" id=\"47533\">47533</span><span style=\"padding-left:10px;width:650px;display:inline-block;\">alors le dlcta- teur regnant sur iespagne , et navait qxk le vouloir pour</span><span style=\"font-weight:bold;display:inline-block;width:200px;\">WASHINGTON</span><span>de la peninsule iberique . le cbancelier de lempire dallemagne avait assez de finesse </span><hr/>"
      ],
      "text/plain": [
       "<IPython.core.display.HTML object>"
      ]
     },
     "metadata": {},
     "output_type": "display_data"
    },
    {
     "data": {
      "text/html": [
       "<span style=\"width:50px;display:inline-block;font-style:italic;\" id=\"51454\">51454</span><span style=\"padding-left:10px;width:650px;display:inline-block;\">. — les explorations du oassin du ail . leo claretiet — la ville</span><span style=\"font-weight:bold;display:inline-block;width:200px;\">WASHINGTON</span><span>, bonquart . — hkns j > e mek . — un rls aux </span><hr/>"
      ],
      "text/plain": [
       "<IPython.core.display.HTML object>"
      ]
     },
     "metadata": {},
     "output_type": "display_data"
    },
    {
     "data": {
      "text/html": [
       "<span style=\"width:50px;display:inline-block;font-style:italic;\" id=\"51599\">51599</span><span style=\"padding-left:10px;width:650px;display:inline-block;\">: « dans eette plaine , on fera une ville . » la ordation</span><span style=\"font-weight:bold;display:inline-block;width:200px;\">WASHINGTON</span><span>fut ainsi d £ cret & en 1791 . on commenga par b & </span><hr/>"
      ],
      "text/plain": [
       "<IPython.core.display.HTML object>"
      ]
     },
     "metadata": {},
     "output_type": "display_data"
    },
    {
     "data": {
      "text/html": [
       "<span style=\"width:50px;display:inline-block;font-style:italic;\" id=\"51623\">51623</span><span style=\"padding-left:10px;width:650px;display:inline-block;\">un pionnier terrasse un indien . a cdtd , la paix et la guerre</span><span style=\"font-weight:bold;display:inline-block;width:200px;\">WASHINGTON</span><span>. la grande entrde est une colossale porte de bronze soulptd ; elle a </span><hr/>"
      ],
      "text/plain": [
       "<IPython.core.display.HTML object>"
      ]
     },
     "metadata": {},
     "output_type": "display_data"
    },
    {
     "data": {
      "text/html": [
       "<span style=\"width:50px;display:inline-block;font-style:italic;\" id=\"51630\">51630</span><span style=\"padding-left:10px;width:650px;display:inline-block;\">sans inspiration ni originalitd . mais les hdros , depuis colomb jusqu' fc franklin</span><span style=\"font-weight:bold;display:inline-block;width:200px;\">WASHINGTON</span><span>, hancock , th . jefferson et einquante autres sont copieusement com- memords . </span><hr/>"
      ],
      "text/plain": [
       "<IPython.core.display.HTML object>"
      ]
     },
     "metadata": {},
     "output_type": "display_data"
    },
    {
     "data": {
      "text/html": [
       "<span style=\"width:50px;display:inline-block;font-style:italic;\" id=\"51814\">51814</span><span style=\"padding-left:10px;width:650px;display:inline-block;\">anneville . — la famine en rattle . leo claretie . - la ville</span><span style=\"font-weight:bold;display:inline-block;width:200px;\">WASHINGTON</span><span>. cnmilie debans , — moumousse , georges baudouin . — a. pilgrim . </span><hr/>"
      ],
      "text/plain": [
       "<IPython.core.display.HTML object>"
      ]
     },
     "metadata": {},
     "output_type": "display_data"
    },
    {
     "data": {
      "text/html": [
       "<span style=\"width:50px;display:inline-block;font-style:italic;\" id=\"51904\">51904</span><span style=\"padding-left:10px;width:650px;display:inline-block;\">carte au chef d' etat . on se sentau milieu d' une vraie democratic</span><span style=\"font-weight:bold;display:inline-block;width:200px;\">WASHINGTON</span><span>eat une des raws villes ame- ricaines dont la visite offre un interet , </span><hr/>"
      ],
      "text/plain": [
       "<IPython.core.display.HTML object>"
      ]
     },
     "metadata": {},
     "output_type": "display_data"
    },
    {
     "data": {
      "text/html": [
       "<span style=\"width:50px;display:inline-block;font-style:italic;\" id=\"51918\">51918</span><span style=\"padding-left:10px;width:650px;display:inline-block;\">, sa demoure . ajoutons que le mdridicn des etats-unis passe k l' observatoire</span><span style=\"font-weight:bold;display:inline-block;width:200px;\">WASHINGTON</span><span>. on volt aussi les ruines de la maison de van ness , bienfaiteur </span><hr/>"
      ],
      "text/plain": [
       "<IPython.core.display.HTML object>"
      ]
     },
     "metadata": {},
     "output_type": "display_data"
    },
    {
     "data": {
      "text/html": [
       "<span style=\"width:50px;display:inline-block;font-style:italic;\" id=\"51919\">51919</span><span style=\"padding-left:10px;width:650px;display:inline-block;\">pherson , de l' amiral far- ragut , des generaux thomas scott , statue</span><span style=\"font-weight:bold;display:inline-block;width:200px;\">WASHINGTON</span><span>, un superbe monu ¬ ment commemoratif de lafayette , parfal- guure et meroie </span><hr/>"
      ],
      "text/plain": [
       "<IPython.core.display.HTML object>"
      ]
     },
     "metadata": {},
     "output_type": "display_data"
    },
    {
     "data": {
      "text/html": [
       "<span style=\"width:50px;display:inline-block;font-style:italic;\" id=\"51925\">51925</span><span style=\"padding-left:10px;width:650px;display:inline-block;\">pris . les autres ont servi k iafonte de son eeqgie . le monument</span><span style=\"font-weight:bold;display:inline-block;width:200px;\">WASHINGTON</span><span>est une des curiosites de la ville . c' est un obeiisque qui s' </span><hr/>"
      ],
      "text/plain": [
       "<IPython.core.display.HTML object>"
      ]
     },
     "metadata": {},
     "output_type": "display_data"
    },
    {
     "data": {
      "text/html": [
       "<span style=\"width:50px;display:inline-block;font-style:italic;\" id=\"51926\">51926</span><span style=\"padding-left:10px;width:650px;display:inline-block;\">mdme devant la tour eiffel , qui est en fer . a i' obeii8que</span><span style=\"font-weight:bold;display:inline-block;width:200px;\">WASHINGTON</span><span>, il y a un concierge , et ici la farce legendaire du pro-vincial </span><hr/>"
      ],
      "text/plain": [
       "<IPython.core.display.HTML object>"
      ]
     },
     "metadata": {},
     "output_type": "display_data"
    },
    {
     "data": {
      "text/html": [
       "<span style=\"width:50px;display:inline-block;font-style:italic;\" id=\"51931\">51931</span><span style=\"padding-left:10px;width:650px;display:inline-block;\">promptions anato- miques , la dissection etant reputee sacrilege et prohibee . les alentours</span><span style=\"font-weight:bold;display:inline-block;width:200px;\">WASHINGTON</span><span>sont agrfo- bles , et le bite a ete admirablement bien choisi . le </span><hr/>"
      ],
      "text/plain": [
       "<IPython.core.display.HTML object>"
      ]
     },
     "metadata": {},
     "output_type": "display_data"
    },
    {
     "data": {
      "text/html": [
       "<span style=\"width:50px;display:inline-block;font-style:italic;\" id=\"51935\">51935</span><span style=\"padding-left:10px;width:650px;display:inline-block;\">sont des buts de prome- nades le prinoipal est mont-vernon , la resi-dence du</span><span style=\"font-weight:bold;display:inline-block;width:200px;\">WASHINGTON</span><span>, seize milles en aval de la ville . elle a ete achetee et </span><hr/>"
      ],
      "text/plain": [
       "<IPython.core.display.HTML object>"
      ]
     },
     "metadata": {},
     "output_type": "display_data"
    },
    {
     "data": {
      "text/html": [
       "<span style=\"width:50px;display:inline-block;font-style:italic;\" id=\"51937\">51937</span><span style=\"padding-left:10px;width:650px;display:inline-block;\">proton- dement entre dans les esprits sur toute la surface des fitats-unis la ville</span><span style=\"font-weight:bold;display:inline-block;width:200px;\">WASHING</span><span>¬ ton en est pour ainsi dire le sanotuaire . ce ne sont que </span><hr/>"
      ],
      "text/plain": [
       "<IPython.core.display.HTML object>"
      ]
     },
     "metadata": {},
     "output_type": "display_data"
    },
    {
     "data": {
      "text/html": [
       "<span style=\"width:50px;display:inline-block;font-style:italic;\" id=\"51941\">51941</span><span style=\"padding-left:10px;width:650px;display:inline-block;\">le vestibule , est pendue une clef de la bastille dont la fayette fit</span><span style=\"font-weight:bold;display:inline-block;width:200px;\">WASHINGTON</span><span>comme d' un trophte de liberte . dans le musio room , on volt </span><hr/>"
      ],
      "text/plain": [
       "<IPython.core.display.HTML object>"
      ]
     },
     "metadata": {},
     "output_type": "display_data"
    },
    {
     "data": {
      "text/html": [
       "<span style=\"width:50px;display:inline-block;font-style:italic;\" id=\"51945\">51945</span><span style=\"padding-left:10px;width:650px;display:inline-block;\">la chambre oft il coucha quand il vint k mont-vernon . la chambre mortuaire</span><span style=\"font-weight:bold;display:inline-block;width:200px;\">WASHINGTON</span><span>est demeurde en l' dtat . l' entretien de chacune de ces sal les </span><hr/>"
      ],
      "text/plain": [
       "<IPython.core.display.HTML object>"
      ]
     },
     "metadata": {},
     "output_type": "display_data"
    },
    {
     "data": {
      "text/html": [
       "<span style=\"width:50px;display:inline-block;font-style:italic;\" id=\"51948\">51948</span><span style=\"padding-left:10px;width:650px;display:inline-block;\">petit- flls de la fayette , et on voit aussi la chambre oii mourut</span><span style=\"font-weight:bold;display:inline-block;width:200px;\">WASHINGTON</span><span>, sous le toit , une puce mansardee . si on s' tonne qu' </span><hr/>"
      ],
      "text/plain": [
       "<IPython.core.display.HTML object>"
      ]
     },
     "metadata": {},
     "output_type": "display_data"
    },
    {
     "data": {
      "text/html": [
       "<span style=\"width:50px;display:inline-block;font-style:italic;\" id=\"51952\">51952</span><span style=\"padding-left:10px;width:650px;display:inline-block;\">/ image > la villb db washington lf university scientifique . — statue tquestre</span><span style=\"font-weight:bold;display:inline-block;width:200px;\">WASHINGTON</span><span>. — uimprimerie . avenue de pensylvanie . — l' oblisque de washington dans </span><hr/>"
      ],
      "text/plain": [
       "<IPython.core.display.HTML object>"
      ]
     },
     "metadata": {},
     "output_type": "display_data"
    },
    {
     "data": {
      "text/html": [
       "<span style=\"width:50px;display:inline-block;font-style:italic;\" id=\"51955\">51955</span><span style=\"padding-left:10px;width:650px;display:inline-block;\">tquestre de washington . — uimprimerie . avenue de pensylvanie . — l' oblisque</span><span style=\"font-weight:bold;display:inline-block;width:200px;\">WASHINGTON</span><span>dans le silence du soir , la grande et belle ville se pr4lasse parmi </span><hr/>"
      ],
      "text/plain": [
       "<IPython.core.display.HTML object>"
      ]
     },
     "metadata": {},
     "output_type": "display_data"
    },
    {
     "data": {
      "text/html": [
       "<span style=\"width:50px;display:inline-block;font-style:italic;\" id=\"51956\">51956</span><span style=\"padding-left:10px;width:650px;display:inline-block;\">voles la pensee se reported la periode agitee ct dramatique qu' gvoque le nom</span><span style=\"font-weight:bold;display:inline-block;width:200px;\">WASHINGTON</span><span>et cent ans de distance , ce oaline repose et glorieux apparalt comme la </span><hr/>"
      ],
      "text/plain": [
       "<IPython.core.display.HTML object>"
      ]
     },
     "metadata": {},
     "output_type": "display_data"
    },
    {
     "data": {
      "text/html": [
       "<span style=\"width:50px;display:inline-block;font-style:italic;\" id=\"52659\">52659</span><span style=\"padding-left:10px;width:650px;display:inline-block;\">— les enseignes en amd- rique . les ehiens des prairies . la ville</span><span style=\"font-weight:bold;display:inline-block;width:200px;\">WASHINGTON</span><span>. le chien dmissaire . les mauvaises terres . une montagne de verre . </span><hr/>"
      ],
      "text/plain": [
       "<IPython.core.display.HTML object>"
      ]
     },
     "metadata": {},
     "output_type": "display_data"
    },
    {
     "data": {
      "text/html": [
       "<span style=\"width:50px;display:inline-block;font-style:italic;\" id=\"52732\">52732</span><span style=\"padding-left:10px;width:650px;display:inline-block;\">. tour en birmanie ( un ) , par bug . gallols . ville</span><span style=\"font-weight:bold;display:inline-block;width:200px;\">WASHINGTON</span><span>( la ) , parleociaretie . rscjts d' aventures et nouvelles a ven lures </span><hr/>"
      ],
      "text/plain": [
       "<IPython.core.display.HTML object>"
      ]
     },
     "metadata": {},
     "output_type": "display_data"
    },
    {
     "data": {
      "text/html": [
       "<span style=\"width:50px;display:inline-block;font-style:italic;\" id=\"60472\">60472</span><span style=\"padding-left:10px;width:650px;display:inline-block;\">peauxiiouges et de cowboys rifcres comme celles appartenant aux na revers , l' armee</span><span style=\"font-weight:bold;display:inline-block;width:200px;\">WASHINGTON</span><span>avait jut une des attractions parisiennes pen tions des apaches , des delawares , </span><hr/>"
      ],
      "text/plain": [
       "<IPython.core.display.HTML object>"
      ]
     },
     "metadata": {},
     "output_type": "display_data"
    },
    {
     "data": {
      "text/html": [
       "<span style=\"width:50px;display:inline-block;font-style:italic;\" id=\"60477\">60477</span><span style=\"padding-left:10px;width:650px;display:inline-block;\">des travaux d' approche impa peine k obtenir dans notre hterarchique ral en chef</span><span style=\"font-weight:bold;display:inline-block;width:200px;\">WASHINGTON</span><span>, qui tientaient , avaient , pour la plupart , fle ¬ et justement </span><hr/>"
      ],
      "text/plain": [
       "<IPython.core.display.HTML object>"
      ]
     },
     "metadata": {},
     "output_type": "display_data"
    },
    {
     "data": {
      "text/html": [
       "<span style=\"width:50px;display:inline-block;font-style:italic;\" id=\"60478\">60478</span><span style=\"padding-left:10px;width:650px;display:inline-block;\">deste coureur sous les ordres d' un maitre faiblesse de ses effectifs civilises .</span><span style=\"font-weight:bold;display:inline-block;width:200px;\">WASHINGTON</span><span>et de son ami la payette do poste dependant luimme d' une com faire </span><hr/>"
      ],
      "text/plain": [
       "<IPython.core.display.HTML object>"
      ]
     },
     "metadata": {},
     "output_type": "display_data"
    },
    {
     "data": {
      "text/html": [
       "<span style=\"width:50px;display:inline-block;font-style:italic;\" id=\"60495\">60495</span><span style=\"padding-left:10px;width:650px;display:inline-block;\">de dovenir les arbitres de la guerre prasonte mais non ... ils sont devouesk</span><span style=\"font-weight:bold;display:inline-block;width:200px;\">WASHINGTON</span><span>et k ce la fayette , puis qu' ils leur ont promis leur puissant </span><hr/>"
      ],
      "text/plain": [
       "<IPython.core.display.HTML object>"
      ]
     },
     "metadata": {},
     "output_type": "display_data"
    },
    {
     "data": {
      "text/html": [
       "<span style=\"width:50px;display:inline-block;font-style:italic;\" id=\"60943\">60943</span><span style=\"padding-left:10px;width:650px;display:inline-block;\">, une dame avait offert aux ddpartements de la guerre et de la marine</span><span style=\"font-weight:bold;display:inline-block;width:200px;\">WASHINGTON</span><span>, de lover un regiment dc 2,000 femmes . l' offre n' a pas </span><hr/>"
      ],
      "text/plain": [
       "<IPython.core.display.HTML object>"
      ]
     },
     "metadata": {},
     "output_type": "display_data"
    },
    {
     "data": {
      "text/html": [
       "<span style=\"width:50px;display:inline-block;font-style:italic;\" id=\"64651\">64651</span><span style=\"padding-left:10px;width:650px;display:inline-block;\">. les exportations d' or aux états-unis . — la direction de la monnaie</span><span style=\"font-weight:bold;display:inline-block;width:200px;\">WASHINGTON</span><span>vient de publier un rapport établissant qu' il existe actuel- lement aux états-unis 617,000,000 </span><hr/>"
      ],
      "text/plain": [
       "<IPython.core.display.HTML object>"
      ]
     },
     "metadata": {},
     "output_type": "display_data"
    },
    {
     "data": {
      "text/html": [
       "<span style=\"width:50px;display:inline-block;font-style:italic;\" id=\"64685\">64685</span><span style=\"padding-left:10px;width:650px;display:inline-block;\">fit même pas les frais du gonflement de sa grande ascension à philadelphie ,</span><span style=\"font-weight:bold;display:inline-block;width:200px;\">WASHINGTON</span><span>ait 1 . c' est le nom qu' on donna plaisamment à blanchard pour </span><hr/>"
      ],
      "text/plain": [
       "<IPython.core.display.HTML object>"
      ]
     },
     "metadata": {},
     "output_type": "display_data"
    },
    {
     "data": {
      "text/html": [
       "<span style=\"width:50px;display:inline-block;font-style:italic;\" id=\"64699\">64699</span><span style=\"padding-left:10px;width:650px;display:inline-block;\">la ville favo-risée par le congrès sera new-york , chi-cago , saint-louis , ou</span><span style=\"font-weight:bold;display:inline-block;width:200px;\">WASHINGTON</span><span>; mais il y a déjà une chose bieri certaine , c' est que </span><hr/>"
      ],
      "text/plain": [
       "<IPython.core.display.HTML object>"
      ]
     },
     "metadata": {},
     "output_type": "display_data"
    },
    {
     "data": {
      "text/html": [
       "<span style=\"width:50px;display:inline-block;font-style:italic;\" id=\"65316\">65316</span><span style=\"padding-left:10px;width:650px;display:inline-block;\">féte ; la durée des billets est augmentée en conséquence . la conférence maritime</span><span style=\"font-weight:bold;display:inline-block;width:200px;\">WASHINGTON</span><span>. — le rapport de la commission sur les différents systèmes de sauvetage en </span><hr/>"
      ],
      "text/plain": [
       "<IPython.core.display.HTML object>"
      ]
     },
     "metadata": {},
     "output_type": "display_data"
    },
    {
     "data": {
      "text/html": [
       "<span style=\"width:50px;display:inline-block;font-style:italic;\" id=\"65317\">65317</span><span style=\"padding-left:10px;width:650px;display:inline-block;\">les différents systèmes de sauvetage en mer a été présenté à la conférence maritime</span><span style=\"font-weight:bold;display:inline-block;width:200px;\">WASHINGTON</span><span>. le rapport dit qu' il est du devoir des navires , dans les </span><hr/>"
      ],
      "text/plain": [
       "<IPython.core.display.HTML object>"
      ]
     },
     "metadata": {},
     "output_type": "display_data"
    },
    {
     "data": {
      "text/html": [
       "<span style=\"width:50px;display:inline-block;font-style:italic;\" id=\"71376\">71376</span><span style=\"padding-left:10px;width:650px;display:inline-block;\">inscrit plus heta que tous les autres , le gamin a lu le aux</span><span style=\"font-weight:bold;display:inline-block;width:200px;\">WASHINGTON</span><span>. le célèbre américaiu avait gravé sans doute avant d' aller suivre sur le </span><hr/>"
      ],
      "text/plain": [
       "<IPython.core.display.HTML object>"
      ]
     },
     "metadata": {},
     "output_type": "display_data"
    },
    {
     "data": {
      "text/html": [
       "<span style=\"width:50px;display:inline-block;font-style:italic;\" id=\"71378\">71378</span><span style=\"padding-left:10px;width:650px;display:inline-block;\">, èh larges capitales , son con inconnu , cinquante centimètres au-desse de celui</span><span style=\"font-weight:bold;display:inline-block;width:200px;\">WASHINGTON</span><span>. « les gamins , restés auprès de mor applaudissent à ce coup d' </span><hr/>"
      ],
      "text/plain": [
       "<IPython.core.display.HTML object>"
      ]
     },
     "metadata": {},
     "output_type": "display_data"
    },
    {
     "data": {
      "text/html": [
       "<span style=\"width:50px;display:inline-block;font-style:italic;\" id=\"72032\">72032</span><span style=\"padding-left:10px;width:650px;display:inline-block;\">archipel ( y ) des nicobar . ......................................... 279 conference ( la ) maritime</span><span style=\"font-weight:bold;display:inline-block;width:200px;\">WASHINGTON</span><span>................. 128 ecbouement ( h d' une baleine .................................... 144 filage ( le ) </span><hr/>"
      ],
      "text/plain": [
       "<IPython.core.display.HTML object>"
      ]
     },
     "metadata": {},
     "output_type": "display_data"
    },
    {
     "data": {
      "text/html": [
       "<span style=\"width:50px;display:inline-block;font-style:italic;\" id=\"72063\">72063</span><span style=\"padding-left:10px;width:650px;display:inline-block;\">une ) du ministre de la marine .................................... 128 conference ( la ) maritime</span><span style=\"font-weight:bold;display:inline-block;width:200px;\">WASHINGTON</span><span>.................................... 128 derniers ( les ) iours du great-eastern .......................................... 360 eclairage ( l </span><hr/>"
      ],
      "text/plain": [
       "<IPython.core.display.HTML object>"
      ]
     },
     "metadata": {},
     "output_type": "display_data"
    },
    {
     "data": {
      "text/html": [
       "<span style=\"width:50px;display:inline-block;font-style:italic;\" id=\"76743\">76743</span><span style=\"padding-left:10px;width:650px;display:inline-block;\">chcvaux surtout lombaient par cenlaincs et-l on manquait dechariots pour les enlcver lmmudiatcinent .</span><span style=\"font-weight:bold;display:inline-block;width:200px;\">WASHINGTON</span><span>la temperature a atteint .j.00 degrcs a lonibrc . ce que couto un coup </span><hr/>"
      ],
      "text/plain": [
       "<IPython.core.display.HTML object>"
      ]
     },
     "metadata": {},
     "output_type": "display_data"
    },
    {
     "data": {
      "text/html": [
       "<span style=\"width:50px;display:inline-block;font-style:italic;\" id=\"77884\">77884</span><span style=\"padding-left:10px;width:650px;display:inline-block;\">est urte villa de. bon goot , rappelant un pen la « maison blanche</span><span style=\"font-weight:bold;display:inline-block;width:200px;\">WASHINGTON</span><span>. - .. . .. m. edwards eveille un douloureux , sou ¬ venir </span><hr/>"
      ],
      "text/plain": [
       "<IPython.core.display.HTML object>"
      ]
     },
     "metadata": {},
     "output_type": "display_data"
    },
    {
     "data": {
      "text/html": [
       "<span style=\"width:50px;display:inline-block;font-style:italic;\" id=\"78488\">78488</span><span style=\"padding-left:10px;width:650px;display:inline-block;\">image > lannee derniere , quatre territoires , — dakota-nord , dakota-sud , montana</span><span style=\"font-weight:bold;display:inline-block;width:200px;\">WASHINGTON</span><span>, — onte.ie admis au nombre des eta is de lunion , cc qui </span><hr/>"
      ],
      "text/plain": [
       "<IPython.core.display.HTML object>"
      ]
     },
     "metadata": {},
     "output_type": "display_data"
    },
    {
     "data": {
      "text/html": [
       "<span style=\"width:50px;display:inline-block;font-style:italic;\" id=\"78489\">78489</span><span style=\"padding-left:10px;width:650px;display:inline-block;\">une population de 32,000 amps . ii est englobe entre leslhats ore ¬ gon</span><span style=\"font-weight:bold;display:inline-block;width:200px;\">WASHINGTON</span><span>, nevada et montana et .les territoires utah et wyoming . en vertu de </span><hr/>"
      ],
      "text/plain": [
       "<IPython.core.display.HTML object>"
      ]
     },
     "metadata": {},
     "output_type": "display_data"
    },
    {
     "data": {
      "text/html": [
       "<span style=\"width:50px;display:inline-block;font-style:italic;\" id=\"79310\">79310</span><span style=\"padding-left:10px;width:650px;display:inline-block;\">anti-cliiiioise . — le mois dernier , a eu lieu a aber ¬ deen</span><span style=\"font-weight:bold;display:inline-block;width:200px;\">WASHINGTON</span><span>, un mee-ting monstre prdsidd par le maire . on a adopts des resolutions </span><hr/>"
      ],
      "text/plain": [
       "<IPython.core.display.HTML object>"
      ]
     },
     "metadata": {},
     "output_type": "display_data"
    },
    {
     "data": {
      "text/html": [
       "<span style=\"width:50px;display:inline-block;font-style:italic;\" id=\"84628\">84628</span><span style=\"padding-left:10px;width:650px;display:inline-block;\">de mort , etc. : ci-gtt le corps dabraham washin- ton , marl defunt</span><span style=\"font-weight:bold;display:inline-block;width:200px;\">WASHINTON</span><span>, qui vit ptuelleaent k milton et qui a eu en tout six maris </span><hr/>"
      ],
      "text/plain": [
       "<IPython.core.display.HTML object>"
      ]
     },
     "metadata": {},
     "output_type": "display_data"
    },
    {
     "data": {
      "text/html": [
       "<span style=\"width:50px;display:inline-block;font-style:italic;\" id=\"92570\">92570</span><span style=\"padding-left:10px;width:650px;display:inline-block;\">iapr & s-midi ; k cinq heures , casey le tuait au coin des</span><span style=\"font-weight:bold;display:inline-block;width:200px;\">WASHINGTON</span><span>et montgomery , k coups de revolver . cat assassinat en pleine rue , </span><hr/>"
      ],
      "text/plain": [
       "<IPython.core.display.HTML object>"
      ]
     },
     "metadata": {},
     "output_type": "display_data"
    },
    {
     "data": {
      "text/html": [
       "<span style=\"width:50px;display:inline-block;font-style:italic;\" id=\"98244\">98244</span><span style=\"padding-left:10px;width:650px;display:inline-block;\">cet exemple , car on voyait fonder de ces societes a stockton-heath , pres</span><span style=\"font-weight:bold;display:inline-block;width:200px;\">WARRINGTON</span><span>, le 4 avrii 1830 ; puis dans la grande cite de manchester , </span><hr/>"
      ],
      "text/plain": [
       "<IPython.core.display.HTML object>"
      ]
     },
     "metadata": {},
     "output_type": "display_data"
    },
    {
     "data": {
      "text/html": [
       "<span style=\"width:50px;display:inline-block;font-style:italic;\" id=\"101804\">101804</span><span style=\"padding-left:10px;width:650px;display:inline-block;\">heures de faprs-midi ; k cinq heures , casey le tuait au coin des</span><span style=\"font-weight:bold;display:inline-block;width:200px;\">WASHINGTON</span><span>et , montgomery , a coups de revolver . cet assassinat en pleine rue </span><hr/>"
      ],
      "text/plain": [
       "<IPython.core.display.HTML object>"
      ]
     },
     "metadata": {},
     "output_type": "display_data"
    },
    {
     "data": {
      "text/html": [
       "<span style=\"width:50px;display:inline-block;font-style:italic;\" id=\"107616\">107616</span><span style=\"padding-left:10px;width:650px;display:inline-block;\">cet exemple , car on vovait fonder de ces societes k stockton-heath , pres</span><span style=\"font-weight:bold;display:inline-block;width:200px;\">WARRINGTON</span><span>, le 4 avrit 1830 ; puis dans la grande cite de manchester , </span><hr/>"
      ],
      "text/plain": [
       "<IPython.core.display.HTML object>"
      ]
     },
     "metadata": {},
     "output_type": "display_data"
    },
    {
     "data": {
      "text/html": [
       "<span style=\"width:50px;display:inline-block;font-style:italic;\" id=\"112170\">112170</span><span style=\"padding-left:10px;width:650px;display:inline-block;\">.. des- ; ; fitat8 ? uniis - ; de . tamenque du -nord</span><span style=\"font-weight:bold;display:inline-block;width:200px;\">WASHINGTON</span><span>, ] etabli : , dans .-le.desert de .. jvail.eyr.fqrgejefit faibliun seulinstaht ? ... </span><hr/>"
      ],
      "text/plain": [
       "<IPython.core.display.HTML object>"
      ]
     },
     "metadata": {},
     "output_type": "display_data"
    },
    {
     "data": {
      "text/html": [
       "<span style=\"width:50px;display:inline-block;font-style:italic;\" id=\"112171\">112171</span><span style=\"padding-left:10px;width:650px;display:inline-block;\">allait  lui doriner la victoire . ; .. nous aussi , nous- avbns</span><span style=\"font-weight:bold;display:inline-block;width:200px;\">WASHINGTON</span><span>, et nos yeux se- tournent.vers lui ; nos levres rappellent , . nos \"</span><hr/>"
      ],
      "text/plain": [
       "<IPython.core.display.HTML object>"
      ]
     },
     "metadata": {},
     "output_type": "display_data"
    },
    {
     "data": {
      "text/html": [
       "<span style=\"width:50px;display:inline-block;font-style:italic;\" id=\"113337\">113337</span><span style=\"padding-left:10px;width:650px;display:inline-block;\">. kn , 4888 , le- nord-dakota ; en 18s9 , le sud-dakola ,</span><span style=\"font-weight:bold;display:inline-block;width:200px;\">WASHINGTON</span><span>ct le montana , anciens terri- toires , ont ete sieves au rang detats </span><hr/>"
      ],
      "text/plain": [
       "<IPython.core.display.HTML object>"
      ]
     },
     "metadata": {},
     "output_type": "display_data"
    },
    {
     "data": {
      "text/html": [
       "<span style=\"width:50px;display:inline-block;font-style:italic;\" id=\"114197\">114197</span><span style=\"padding-left:10px;width:650px;display:inline-block;\">ietorinementv tde-rhistoire . . .quevfat-iiad-yenu.i , des fitatsuniis - de . l.-am.eriquv du -nord</span><span style=\"font-weight:bold;display:inline-block;width:200px;\">WASHINGTON</span><span>, ] etabli. dans .levdeserv  de jvail.eyrferge.jefit faibli-un seuliristarit ... etcependant , son \"</span><hr/>"
      ],
      "text/plain": [
       "<IPython.core.display.HTML object>"
      ]
     },
     "metadata": {},
     "output_type": "display_data"
    },
    {
     "data": {
      "text/html": [
       "<span style=\"width:50px;display:inline-block;font-style:italic;\" id=\"114198\">114198</span><span style=\"padding-left:10px;width:650px;display:inline-block;\">prestige qui allait  lui donner layictoire ... nous aussi , nous = avons</span><span style=\"font-weight:bold;display:inline-block;width:200px;\">WASHINGTON</span><span>, et nos .yeux se- tournent.vers lui , nos levres rappellent , , nos \"</span><hr/>"
      ],
      "text/plain": [
       "<IPython.core.display.HTML object>"
      ]
     },
     "metadata": {},
     "output_type": "display_data"
    },
    {
     "data": {
      "text/html": [
       "<span style=\"width:50px;display:inline-block;font-style:italic;\" id=\"115262\">115262</span><span style=\"padding-left:10px;width:650px;display:inline-block;\">puis . en ( 1888 , le- nord-dakota en 18s9 , le sud-dakola ,</span><span style=\"font-weight:bold;display:inline-block;width:200px;\">WASHINGTON</span><span>el le montana , anciens terri- toires , ont eie eieves au rang detats </span><hr/>"
      ],
      "text/plain": [
       "<IPython.core.display.HTML object>"
      ]
     },
     "metadata": {},
     "output_type": "display_data"
    },
    {
     "data": {
      "text/html": [
       "<span style=\"width:50px;display:inline-block;font-style:italic;\" id=\"116798\">116798</span><span style=\"padding-left:10px;width:650px;display:inline-block;\">sagou ¬ tier conslituait une des cu -- riosites du mont-vernon , lha --</span><span style=\"font-weight:bold;display:inline-block;width:200px;\">WASHINGTON</span><span>, qui en - fit present a un de ses amis do  baltimore \"</span><hr/>"
      ],
      "text/plain": [
       "<IPython.core.display.HTML object>"
      ]
     },
     "metadata": {},
     "output_type": "display_data"
    },
    {
     "data": {
      "text/html": [
       "<span style=\"width:50px;display:inline-block;font-style:italic;\" id=\"121419\">121419</span><span style=\"padding-left:10px;width:650px;display:inline-block;\">... qu' a ' gagné-napoléon à jouer le rôle de césar plutôt que celui</span><span style=\"font-weight:bold;display:inline-block;width:200px;\">WASHINGTON</span><span>? quels avantages a retirés ma patrie en se donnant à un homme ? </span><hr/>"
      ],
      "text/plain": [
       "<IPython.core.display.HTML object>"
      ]
     },
     "metadata": {},
     "output_type": "display_data"
    },
    {
     "data": {
      "text/html": [
       "<span style=\"width:50px;display:inline-block;font-style:italic;\" id=\"123197\">123197</span><span style=\"padding-left:10px;width:650px;display:inline-block;\">va toujours en augmentant . le plus petit œuf . — le muséum américain</span><span style=\"font-weight:bold;display:inline-block;width:200px;\">WASHINGTON</span><span>possède , dans sa section d' aviculture , le plus petit nid et le </span><hr/>"
      ],
      "text/plain": [
       "<IPython.core.display.HTML object>"
      ]
     },
     "metadata": {},
     "output_type": "display_data"
    },
    {
     "data": {
      "text/html": [
       "<span style=\"width:50px;display:inline-block;font-style:italic;\" id=\"125284\">125284</span><span style=\"padding-left:10px;width:650px;display:inline-block;\">, comme il aimait à le redire , le jour de la mort du</span><span style=\"font-weight:bold;display:inline-block;width:200px;\">WASHINGTON</span><span>. son père , un vieux corsaire de la guerre de l' indépendance , </span><hr/>"
      ],
      "text/plain": [
       "<IPython.core.display.HTML object>"
      ]
     },
     "metadata": {},
     "output_type": "display_data"
    },
    {
     "data": {
      "text/html": [
       "<span style=\"width:50px;display:inline-block;font-style:italic;\" id=\"125857\">125857</span><span style=\"padding-left:10px;width:650px;display:inline-block;\">mon bon horatio , « je suis né le jour où est mort le</span><span style=\"font-weight:bold;display:inline-block;width:200px;\">WASHINGTON</span><span>, le 12 décembre 1799 ; j' ai aujourd' hui soixante-dix ans . grâce </span><hr/>"
      ],
      "text/plain": [
       "<IPython.core.display.HTML object>"
      ]
     },
     "metadata": {},
     "output_type": "display_data"
    },
    {
     "data": {
      "text/html": [
       "<span style=\"width:50px;display:inline-block;font-style:italic;\" id=\"126175\">126175</span><span style=\"padding-left:10px;width:650px;display:inline-block;\">sut être aussi grand citoyen qu' il avait été grand capitaine . il préféra</span><span style=\"font-weight:bold;display:inline-block;width:200px;\">WASHINGTON</span><span>plutôt que napoléon ... a. brown . fin deux beaux livres bretagne et normandie1 </span><hr/>"
      ],
      "text/plain": [
       "<IPython.core.display.HTML object>"
      ]
     },
     "metadata": {},
     "output_type": "display_data"
    },
    {
     "data": {
      "text/html": [
       "<span style=\"width:50px;display:inline-block;font-style:italic;\" id=\"127458\">127458</span><span style=\"padding-left:10px;width:650px;display:inline-block;\">en californie . .......... 753 armée chinoise ( i ' ) ............... 753 armes</span><span style=\"font-weight:bold;display:inline-block;width:200px;\">WASHINGTON</span><span>( les ) ...... 743 arsenal maritime de weï-ha' i-weï . . .734 au </span><hr/>"
      ],
      "text/plain": [
       "<IPython.core.display.HTML object>"
      ]
     },
     "metadata": {},
     "output_type": "display_data"
    },
    {
     "data": {
      "text/html": [
       "<span style=\"width:50px;display:inline-block;font-style:italic;\" id=\"127545\">127545</span><span style=\"padding-left:10px;width:650px;display:inline-block;\">baie de fundy , par a. pilgrim ......... 742 , 499 — les armes</span><span style=\"font-weight:bold;display:inline-block;width:200px;\">WASHINGTON</span><span>. . 743 , 224 france . — bretagne et normandie , . par </span><hr/>"
      ],
      "text/plain": [
       "<IPython.core.display.HTML object>"
      ]
     },
     "metadata": {},
     "output_type": "display_data"
    },
    {
     "data": {
      "text/html": [
       "<span style=\"width:50px;display:inline-block;font-style:italic;\" id=\"129261\">129261</span><span style=\"padding-left:10px;width:650px;display:inline-block;\">mort 1 ' edt oublie . depuis son premier vote pour le presi ¬</span><span style=\"font-weight:bold;display:inline-block;width:200px;\">WASHINGTON</span><span>, il ne manqua aucune election , et , pendant les soixante-seize dernieres annees </span><hr/>"
      ],
      "text/plain": [
       "<IPython.core.display.HTML object>"
      ]
     },
     "metadata": {},
     "output_type": "display_data"
    },
    {
     "data": {
      "text/html": [
       "<span style=\"width:50px;display:inline-block;font-style:italic;\" id=\"137525\">137525</span><span style=\"padding-left:10px;width:650px;display:inline-block;\">dance hall , mise en branie pour annoncer au peuple le vote du congrfcs</span><span style=\"font-weight:bold;display:inline-block;width:200px;\">WASHINGTON</span><span>et marker parurent & la fenfitre.et deplierent le drapeau national , l' enthousiasme tint </span><hr/>"
      ],
      "text/plain": [
       "<IPython.core.display.HTML object>"
      ]
     },
     "metadata": {},
     "output_type": "display_data"
    },
    {
     "data": {
      "text/html": [
       "<span style=\"width:50px;display:inline-block;font-style:italic;\" id=\"144419\">144419</span><span style=\"padding-left:10px;width:650px;display:inline-block;\">... jejure de porterleursdoieancesau grand- pere ( le president des etats-iinis ) qui est</span><span style=\"font-weight:bold;display:inline-block;width:200px;\">WASHINGTON</span><span>. ! . celui-ci sur fera immt- diatementdistribuerdes terres.du betail , des instruments de </span><hr/>"
      ],
      "text/plain": [
       "<IPython.core.display.HTML object>"
      ]
     },
     "metadata": {},
     "output_type": "display_data"
    },
    {
     "data": {
      "text/html": [
       "<span style=\"width:50px;display:inline-block;font-style:italic;\" id=\"144420\">144420</span><span style=\"padding-left:10px;width:650px;display:inline-block;\">... lors- que vous ma- vez ( surpris et garrotte , le commissairedu gouvernement</span><span style=\"font-weight:bold;display:inline-block;width:200px;\">WASHINGTON</span><span>menvoyait vers les chip ¬ peways pour savoir sils preferaient de largent aux terres </span><hr/>"
      ],
      "text/plain": [
       "<IPython.core.display.HTML object>"
      ]
     },
     "metadata": {},
     "output_type": "display_data"
    },
    {
     "data": {
      "text/html": [
       "<span style=\"width:50px;display:inline-block;font-style:italic;\" id=\"147929\">147929</span><span style=\"padding-left:10px;width:650px;display:inline-block;\">le grand gondé , ambroise paré , pénelon , le général foy , béranger</span><span style=\"font-weight:bold;display:inline-block;width:200px;\">WASHINGTON</span><span>, la fayette , gutenberg , tal-ma , gœthe , pierre corneille , pour </span><hr/>"
      ],
      "text/plain": [
       "<IPython.core.display.HTML object>"
      ]
     },
     "metadata": {},
     "output_type": "display_data"
    },
    {
     "data": {
      "text/html": [
       "<span style=\"width:50px;display:inline-block;font-style:italic;\" id=\"151187\">151187</span><span style=\"padding-left:10px;width:650px;display:inline-block;\">général et qui avait essayé de lutter en faisant des manoeuvres à la façon</span><span style=\"font-weight:bold;display:inline-block;width:200px;\">WASHINGTON</span><span>ou de napoléon . nous l' avions saisi avec ses principaux officiers . nous </span><hr/>"
      ],
      "text/plain": [
       "<IPython.core.display.HTML object>"
      ]
     },
     "metadata": {},
     "output_type": "display_data"
    },
    {
     "data": {
      "text/html": [
       "<span style=\"width:50px;display:inline-block;font-style:italic;\" id=\"156414\">156414</span><span style=\"padding-left:10px;width:650px;display:inline-block;\">s' était enrôlé dans le corps d' armée commandé par lafayette sous les ordres</span><span style=\"font-weight:bold;display:inline-block;width:200px;\">WASHINGTON</span><span>; il était devenu capitaine dans le régiment de pensyl-vanie , commandé par le </span><hr/>"
      ],
      "text/plain": [
       "<IPython.core.display.HTML object>"
      ]
     },
     "metadata": {},
     "output_type": "display_data"
    },
    {
     "data": {
      "text/html": [
       "<span style=\"width:50px;display:inline-block;font-style:italic;\" id=\"156419\">156419</span><span style=\"padding-left:10px;width:650px;display:inline-block;\">que cela ne donne lieu à une attaque générale et ne dérange les plans</span><span style=\"font-weight:bold;display:inline-block;width:200px;\">WASHINGTON</span><span>. « — j' irai seul ! répond l' héroïque colonel . je ne </span><hr/>"
      ],
      "text/plain": [
       "<IPython.core.display.HTML object>"
      ]
     },
     "metadata": {},
     "output_type": "display_data"
    },
    {
     "data": {
      "text/html": [
       "<span style=\"width:50px;display:inline-block;font-style:italic;\" id=\"157167\">157167</span><span style=\"padding-left:10px;width:650px;display:inline-block;\">de l’ amiral cloué et de bien d’ autres navigateurs , le bureau hydrographique</span><span style=\"font-weight:bold;display:inline-block;width:200px;\">WASHINGTON</span><span>a pris la question en mains et a fait publier une petite note largement </span><hr/>"
      ],
      "text/plain": [
       "<IPython.core.display.HTML object>"
      ]
     },
     "metadata": {},
     "output_type": "display_data"
    },
    {
     "data": {
      "text/html": [
       "<span style=\"width:50px;display:inline-block;font-style:italic;\" id=\"158226\">158226</span><span style=\"padding-left:10px;width:650px;display:inline-block;\">départ de u l' armand barbés » nos 841 et 842 . — traînage</span><span style=\"font-weight:bold;display:inline-block;width:200px;\">WASHINGTON</span><span>, nos 845 et 846 . — la perte de la -a bretagne » </span><hr/>"
      ],
      "text/plain": [
       "<IPython.core.display.HTML object>"
      ]
     },
     "metadata": {},
     "output_type": "display_data"
    },
    {
     "data": {
      "text/html": [
       "<span style=\"width:50px;display:inline-block;font-style:italic;\" id=\"158896\">158896</span><span style=\"padding-left:10px;width:650px;display:inline-block;\">varmand barbès » , 11 ° » '841 et 842 . — traînage du</span><span style=\"font-weight:bold;display:inline-block;width:200px;\">WASHINGTON</span><span>, n ° » 845 et 846 . — la perte de la « </span><hr/>"
      ],
      "text/plain": [
       "<IPython.core.display.HTML object>"
      ]
     },
     "metadata": {},
     "output_type": "display_data"
    },
    {
     "data": {
      "text/html": [
       "<span style=\"width:50px;display:inline-block;font-style:italic;\" id=\"160651\">160651</span><span style=\"padding-left:10px;width:650px;display:inline-block;\">1873 ) dans les parages du portugal , des canaries et des açores .</span><span style=\"font-weight:bold;display:inline-block;width:200px;\">WASHINGTON</span><span>( 1881 ) a étudié la zone abyssale de la méditer- ' ranée en </span><hr/>"
      ],
      "text/plain": [
       "<IPython.core.display.HTML object>"
      ]
     },
     "metadata": {},
     "output_type": "display_data"
    },
    {
     "data": {
      "text/html": [
       "<span style=\"width:50px;display:inline-block;font-style:italic;\" id=\"160686\">160686</span><span style=\"padding-left:10px;width:650px;display:inline-block;\">, -du musée de stockholm , et w. h. dali , du nationah muséum</span><span style=\"font-weight:bold;display:inline-block;width:200px;\">WASHINGTON</span><span>, de , même que mm. dautzenberg , de guerne , richard , douville </span><hr/>"
      ],
      "text/plain": [
       "<IPython.core.display.HTML object>"
      ]
     },
     "metadata": {},
     "output_type": "display_data"
    },
    {
     "data": {
      "text/html": [
       "<span style=\"width:50px;display:inline-block;font-style:italic;\" id=\"167772\">167772</span><span style=\"padding-left:10px;width:650px;display:inline-block;\">« déjà plusieurs membres du sénat et de la chambre * des représentants à</span><span style=\"font-weight:bold;display:inline-block;width:200px;\">WASHINGTON</span><span>s' étaient émus de la situation inférieure , par rapport à la puissance de \"</span><hr/>"
      ],
      "text/plain": [
       "<IPython.core.display.HTML object>"
      ]
     },
     "metadata": {},
     "output_type": "display_data"
    },
    {
     "data": {
      "text/html": [
       "<span style=\"width:50px;display:inline-block;font-style:italic;\" id=\"168811\">168811</span><span style=\"padding-left:10px;width:650px;display:inline-block;\">grier le grand canal . une autre écluse se trouve à lentréfe des docks</span><span style=\"font-weight:bold;display:inline-block;width:200px;\">WAR-RINGTON</span><span>. . sur tout le parcours du canal on a établi des docks . </span><hr/>"
      ],
      "text/plain": [
       "<IPython.core.display.HTML object>"
      ]
     },
     "metadata": {},
     "output_type": "display_data"
    },
    {
     "data": {
      "text/html": [
       "<span style=\"width:50px;display:inline-block;font-style:italic;\" id=\"169002\">169002</span><span style=\"padding-left:10px;width:650px;display:inline-block;\">train — un nom prédestiné — ' de tacoma ( vìlle de l' état</span><span style=\"font-weight:bold;display:inline-block;width:200px;\">WASHINGTON</span><span>sur la côte ddpacifìque ' #### , près de la colombie britannique ) , </span><hr/>"
      ],
      "text/plain": [
       "<IPython.core.display.HTML object>"
      ]
     },
     "metadata": {},
     "output_type": "display_data"
    },
    {
     "data": {
      "text/html": [
       "<span style=\"width:50px;display:inline-block;font-style:italic;\" id=\"171035\">171035</span><span style=\"padding-left:10px;width:650px;display:inline-block;\">, souveraine dans l' ouest , traitait d' egale à égale avec le gouvernement</span><span style=\"font-weight:bold;display:inline-block;width:200px;\">WASHINGTON</span><span>. un demi-siècle a suffi pour consommer sa ruine et ce ne sera bientôt </span><hr/>"
      ],
      "text/plain": [
       "<IPython.core.display.HTML object>"
      ]
     },
     "metadata": {},
     "output_type": "display_data"
    },
    {
     "data": {
      "text/html": [
       "<span style=\"width:50px;display:inline-block;font-style:italic;\" id=\"171060\">171060</span><span style=\"padding-left:10px;width:650px;display:inline-block;\">à quelques scouts et à quelques indiens . quand on apprit ces événements à</span><span style=\"font-weight:bold;display:inline-block;width:200px;\">WASHINGTON</span><span>, l' emòtion fut profonde . les détails qui suivirent : le massacre géneral </span><hr/>"
      ],
      "text/plain": [
       "<IPython.core.display.HTML object>"
      ]
     },
     "metadata": {},
     "output_type": "display_data"
    },
    {
     "data": {
      "text/html": [
       "<span style=\"width:50px;display:inline-block;font-style:italic;\" id=\"171061\">171061</span><span style=\"padding-left:10px;width:650px;display:inline-block;\">de ses pouvoirs , suspendit de ses fonctions actives le général forsyth , appelé</span><span style=\"font-weight:bold;display:inline-block;width:200px;\">WASHINGTON</span><span>, pour y rendre compte deses actes . mais on ne pouvait suspendre les </span><hr/>"
      ],
      "text/plain": [
       "<IPython.core.display.HTML object>"
      ]
     },
     "metadata": {},
     "output_type": "display_data"
    },
    {
     "data": {
      "text/html": [
       "<span style=\"width:50px;display:inline-block;font-style:italic;\" id=\"174867\">174867</span><span style=\"padding-left:10px;width:650px;display:inline-block;\">..... 45 . 956 44 . 171 utah ............. 31 . 936 41 .</span><span style=\"font-weight:bold;display:inline-block;width:200px;\">WASHINGTON</span><span>.......... 18 . 071 10 . 744 .géorgie .............. 4 . 583 4 . </span><hr/>"
      ],
      "text/plain": [
       "<IPython.core.display.HTML object>"
      ]
     },
     "metadata": {},
     "output_type": "display_data"
    },
    {
     "data": {
      "text/html": [
       "<span style=\"width:50px;display:inline-block;font-style:italic;\" id=\"175188\">175188</span><span style=\"padding-left:10px;width:650px;display:inline-block;\">; valence , sévilie et ' màlaga ( 100,000 hab ) . états-unis .</span><span style=\"font-weight:bold;display:inline-block;width:200px;\">WASHINGTON</span><span>( 230,000 hab ) ; new-york ( 1,515,000 hab ) ; chicago et philadelphie </span><hr/>"
      ],
      "text/plain": [
       "<IPython.core.display.HTML object>"
      ]
     },
     "metadata": {},
     "output_type": "display_data"
    },
    {
     "data": {
      "text/html": [
       "<span style=\"width:50px;display:inline-block;font-style:italic;\" id=\"175500\">175500</span><span style=\"padding-left:10px;width:650px;display:inline-block;\">franklin en compte 63 à son actif : il méritait bien cela ; quant</span><span style=\"font-weight:bold;display:inline-block;width:200px;\">WASHINGTON</span><span>, il en compte 49 , monroë , 43 . on comprend , après </span><hr/>"
      ],
      "text/plain": [
       "<IPython.core.display.HTML object>"
      ]
     },
     "metadata": {},
     "output_type": "display_data"
    },
    {
     "data": {
      "text/html": [
       "<span style=\"width:50px;display:inline-block;font-style:italic;\" id=\"177709\">177709</span><span style=\"padding-left:10px;width:650px;display:inline-block;\">ont passé au rang d' état , depuis 1876 des 1889 , les territoires</span><span style=\"font-weight:bold;display:inline-block;width:200px;\">WASHINGTON</span><span>; montana , dakota nord et dakota sud-fornlãient 4 nouveaux états ; en 1890 </span><hr/>"
      ],
      "text/plain": [
       "<IPython.core.display.HTML object>"
      ]
     },
     "metadata": {},
     "output_type": "display_data"
    },
    {
     "data": {
      "text/html": [
       "<span style=\"width:50px;display:inline-block;font-style:italic;\" id=\"182353\">182353</span><span style=\"padding-left:10px;width:650px;display:inline-block;\">tortures , qu' un tel voyage dans de pareilles conditions 1 on s' emut</span><span style=\"font-weight:bold;display:inline-block;width:200px;\">WASHINGTON</span><span>, le gouverne- ment et les compsgnies de navigation elles-memes , en ddpit de </span><hr/>"
      ],
      "text/plain": [
       "<IPython.core.display.HTML object>"
      ]
     },
     "metadata": {},
     "output_type": "display_data"
    },
    {
     "data": {
      "text/html": [
       "<span style=\"width:50px;display:inline-block;font-style:italic;\" id=\"187071\">187071</span><span style=\"padding-left:10px;width:650px;display:inline-block;\">edifices qui l' environnent . un portique altier le precede , abritant la statue</span><span style=\"font-weight:bold;display:inline-block;width:200px;\">WASHINGTON</span><span>. c' est ensuite l' au- triche et la hongrie , donnant asile , </span><hr/>"
      ],
      "text/plain": [
       "<IPython.core.display.HTML object>"
      ]
     },
     "metadata": {},
     "output_type": "display_data"
    },
    {
     "data": {
      "text/html": [
       "<span style=\"width:50px;display:inline-block;font-style:italic;\" id=\"188367\">188367</span><span style=\"padding-left:10px;width:650px;display:inline-block;\">regardait comme un bon tireur » . m. webster-davis , ancien secretaire d' etat</span><span style=\"font-weight:bold;display:inline-block;width:200px;\">WASHINGTON</span><span>, et qui vient de faire un long sejour au transvaal , ecrit -que </span><hr/>"
      ],
      "text/plain": [
       "<IPython.core.display.HTML object>"
      ]
     },
     "metadata": {},
     "output_type": "display_data"
    },
    {
     "data": {
      "text/html": [
       "<span style=\"width:50px;display:inline-block;font-style:italic;\" id=\"204005\">204005</span><span style=\"padding-left:10px;width:650px;display:inline-block;\">de ces scrupules . en effet , m · sif-ton s' est rendu directement</span><span style=\"font-weight:bold;display:inline-block;width:200px;\">WASHINGTON</span><span>pour s' entendre aveo les ministres américains sans avoir à passer par l' intermédiaire </span><hr/>"
      ],
      "text/plain": [
       "<IPython.core.display.HTML object>"
      ]
     },
     "metadata": {},
     "output_type": "display_data"
    },
    {
     "data": {
      "text/html": [
       "<span style=\"width:50px;display:inline-block;font-style:italic;\" id=\"206337\">206337</span><span style=\"padding-left:10px;width:650px;display:inline-block;\">nation . do nombreuses protestations furent adressées au « grand père blano » ,</span><span style=\"font-weight:bold;display:inline-block;width:200px;\">WASHINGTON</span><span>. des délégations de peaux-rouges se succédèrent au capitole et des flots d' éloquence </span><hr/>"
      ],
      "text/plain": [
       "<IPython.core.display.HTML object>"
      ]
     },
     "metadata": {},
     "output_type": "display_data"
    },
    {
     "data": {
      "text/html": [
       "<span style=\"width:50px;display:inline-block;font-style:italic;\" id=\"206543\">206543</span><span style=\"padding-left:10px;width:650px;display:inline-block;\">y a lieu d' espérer que , vaincu par l' évidence , le gouvernement</span><span style=\"font-weight:bold;display:inline-block;width:200px;\">WASHINGTON</span><span>réussira au moins à maintenir sa domination sur les bandes du stickteen . cet </span><hr/>"
      ],
      "text/plain": [
       "<IPython.core.display.HTML object>"
      ]
     },
     "metadata": {},
     "output_type": "display_data"
    },
    {
     "data": {
      "text/html": [
       "<span style=\"width:50px;display:inline-block;font-style:italic;\" id=\"207831\">207831</span><span style=\"padding-left:10px;width:650px;display:inline-block;\">nation . do nombreuses protestations furent adressées au « grand père blano » ,</span><span style=\"font-weight:bold;display:inline-block;width:200px;\">WASHINGTON</span><span>. des délégations de peaux-rouges se succédèrent au capitole et des flots d' éloquence </span><hr/>"
      ],
      "text/plain": [
       "<IPython.core.display.HTML object>"
      ]
     },
     "metadata": {},
     "output_type": "display_data"
    },
    {
     "data": {
      "text/html": [
       "<span style=\"width:50px;display:inline-block;font-style:italic;\" id=\"208034\">208034</span><span style=\"padding-left:10px;width:650px;display:inline-block;\">y a lieu d' espérer que , vaincu par l' évidence , le gouvernement</span><span style=\"font-weight:bold;display:inline-block;width:200px;\">WASHINGTON</span><span>réussira au moins à maintenir sa domination sur les bandes du stickteen . cet </span><hr/>"
      ],
      "text/plain": [
       "<IPython.core.display.HTML object>"
      ]
     },
     "metadata": {},
     "output_type": "display_data"
    },
    {
     "data": {
      "text/html": [
       "<span style=\"width:50px;display:inline-block;font-style:italic;\" id=\"208974\">208974</span><span style=\"padding-left:10px;width:650px;display:inline-block;\">« bars » et « sáloons » , où des ? ébés , contemporaines</span><span style=\"font-weight:bold;display:inline-block;width:200px;\">WASHINGTON</span><span>, vendent aux matelots en bordée des boissons pour gosiers pavés ; quelques « </span><hr/>"
      ],
      "text/plain": [
       "<IPython.core.display.HTML object>"
      ]
     },
     "metadata": {},
     "output_type": "display_data"
    },
    {
     "data": {
      "text/html": [
       "<span style=\"width:50px;display:inline-block;font-style:italic;\" id=\"209305\">209305</span><span style=\"padding-left:10px;width:650px;display:inline-block;\">mississipi nous les prennent tous . on oomprend qu' il soit désagréable au gouvernement</span><span style=\"font-weight:bold;display:inline-block;width:200px;\">WASHINGTON</span><span>de voir une aussi belle épicerie entre les mains des espagnole n' était-ce pas </span><hr/>"
      ],
      "text/plain": [
       "<IPython.core.display.HTML object>"
      ]
     },
     "metadata": {},
     "output_type": "display_data"
    },
    {
     "data": {
      "text/html": [
       "<span style=\"width:50px;display:inline-block;font-style:italic;\" id=\"211657\">211657</span><span style=\"padding-left:10px;width:650px;display:inline-block;\">, pesie le 22 mai 1808 . ii existe aux tftats-unls , dans tltat</span><span style=\"font-weight:bold;display:inline-block;width:200px;\">WASHINGTON</span><span>, une mer qui , en raison de ses propri6t6s curatives , a regu. </span><hr/>"
      ],
      "text/plain": [
       "<IPython.core.display.HTML object>"
      ]
     },
     "metadata": {},
     "output_type": "display_data"
    },
    {
     "data": {
      "text/html": [
       "<span style=\"width:50px;display:inline-block;font-style:italic;\" id=\"211660\">211660</span><span style=\"padding-left:10px;width:650px;display:inline-block;\">< < medi ¬ cal lake , elle est situde au sud de letat</span><span style=\"font-weight:bold;display:inline-block;width:200px;\">WASHINGTON</span><span>, it 610 metres au-dessus du niveau de la mer . sa longueur est </span><hr/>"
      ],
      "text/plain": [
       "<IPython.core.display.HTML object>"
      ]
     },
     "metadata": {},
     "output_type": "display_data"
    },
    {
     "data": {
      "text/html": [
       "<span style=\"width:50px;display:inline-block;font-style:italic;\" id=\"211671\">211671</span><span style=\"padding-left:10px;width:650px;display:inline-block;\">lite . gr & ce k ses instances , le departe- ment delaguerre ,</span><span style=\"font-weight:bold;display:inline-block;width:200px;\">WASHINGTON</span><span>, se decida de proflterde ce qui pouvait fort bien gtre considere comme le </span><hr/>"
      ],
      "text/plain": [
       "<IPython.core.display.HTML object>"
      ]
     },
     "metadata": {},
     "output_type": "display_data"
    },
    {
     "data": {
      "text/html": [
       "<span style=\"width:50px;display:inline-block;font-style:italic;\" id=\"215441\">215441</span><span style=\"padding-left:10px;width:650px;display:inline-block;\">nous sommes deve- nus trente fois plus forts , quoique les puissauts qui gouvernent</span><span style=\"font-weight:bold;display:inline-block;width:200px;\">WASHINGTON</span><span>1 voli & u & 03 aient pu faire pour nous , affaiblir . </span><hr/>"
      ],
      "text/plain": [
       "<IPython.core.display.HTML object>"
      ]
     },
     "metadata": {},
     "output_type": "display_data"
    },
    {
     "data": {
      "text/html": [
       "<span style=\"width:50px;display:inline-block;font-style:italic;\" id=\"215619\">215619</span><span style=\"padding-left:10px;width:650px;display:inline-block;\">a eu pour bon resultat de nous debarrasser de pas mal dindividus turbulents retournes</span><span style=\"font-weight:bold;display:inline-block;width:200px;\">WAS-HINGTON</span><span>pour prendre part k la lutte contre lespagne . ces vagabonds nont pas gene-ralement </span><hr/>"
      ],
      "text/plain": [
       "<IPython.core.display.HTML object>"
      ]
     },
     "metadata": {},
     "output_type": "display_data"
    },
    {
     "data": {
      "text/html": [
       "<span style=\"width:50px;display:inline-block;font-style:italic;\" id=\"215620\">215620</span><span style=\"padding-left:10px;width:650px;display:inline-block;\">mais lonole sam ne tient pas & avoir une armee nationale . les senateurs</span><span style=\"font-weight:bold;display:inline-block;width:200px;\">WASHING</span><span>¬ ton raisonnent de la m £ me manifcre que ceux de la vieille </span><hr/>"
      ],
      "text/plain": [
       "<IPython.core.display.HTML object>"
      ]
     },
     "metadata": {},
     "output_type": "display_data"
    },
    {
     "data": {
      "text/html": [
       "<span style=\"width:50px;display:inline-block;font-style:italic;\" id=\"216845\">216845</span><span style=\"padding-left:10px;width:650px;display:inline-block;\">rdgiment , sous le commandement du gdndral miles . aussitdt que le gouver nement</span><span style=\"font-weight:bold;display:inline-block;width:200px;\">WASHINGTON</span><span>avait appris la nouvelle du massacre de lacolonnecus ter , il avait ordonnd une </span><hr/>"
      ],
      "text/plain": [
       "<IPython.core.display.HTML object>"
      ]
     },
     "metadata": {},
     "output_type": "display_data"
    },
    {
     "data": {
      "text/html": [
       "<span style=\"width:50px;display:inline-block;font-style:italic;\" id=\"217963\">217963</span><span style=\"padding-left:10px;width:650px;display:inline-block;\">chiens et chats ; et le ministre reprdsontant , a calcutta , le gouvernement</span><span style=\"font-weight:bold;display:inline-block;width:200px;\">WASHINGTON</span><span>pronait dnergiquement fait et cause pour un de ses nationaux et se remuait d' </span><hr/>"
      ],
      "text/plain": [
       "<IPython.core.display.HTML object>"
      ]
     },
     "metadata": {},
     "output_type": "display_data"
    },
    {
     "data": {
      "text/html": [
       "<span style=\"width:50px;display:inline-block;font-style:italic;\" id=\"220040\">220040</span><span style=\"padding-left:10px;width:650px;display:inline-block;\">nuit dans un massif de bambous . plante carnivore . — le jardin botanique</span><span style=\"font-weight:bold;display:inline-block;width:200px;\">WASHINGTON</span><span>vient de s' enrichir d' une plante singulière , originaire des tropiques . sa </span><hr/>"
      ],
      "text/plain": [
       "<IPython.core.display.HTML object>"
      ]
     },
     "metadata": {},
     "output_type": "display_data"
    },
    {
     "data": {
      "text/html": [
       "<span style=\"width:50px;display:inline-block;font-style:italic;\" id=\"220042\">220042</span><span style=\"padding-left:10px;width:650px;display:inline-block;\">est fondue dans l' économie de la plante . le conservateur du jardin botanique</span><span style=\"font-weight:bold;display:inline-block;width:200px;\">WASHINGTON</span><span>n' ayant pas de grenouilles à lui donner , les remplace par des petits </span><hr/>"
      ],
      "text/plain": [
       "<IPython.core.display.HTML object>"
      ]
     },
     "metadata": {},
     "output_type": "display_data"
    },
    {
     "data": {
      "text/html": [
       "<span style=\"width:50px;display:inline-block;font-style:italic;\" id=\"227850\">227850</span><span style=\"padding-left:10px;width:650px;display:inline-block;\">qui , réunie à la prise d' yórktown que lord - gornwallis dut rendre</span><span style=\"font-weight:bold;display:inline-block;width:200px;\">WASHINGTON</span><span>et à rochambeau assurait le triomphe de la liberté amêrí · cäine ) marqua </span><hr/>"
      ],
      "text/plain": [
       "<IPython.core.display.HTML object>"
      ]
     },
     "metadata": {},
     "output_type": "display_data"
    },
    {
     "data": {
      "text/html": [
       "<span style=\"width:50px;display:inline-block;font-style:italic;\" id=\"231618\">231618</span><span style=\"padding-left:10px;width:650px;display:inline-block;\">< article > emigration . et colonisation litats-ijnis . — la chambre des reprs-sentants</span><span style=\"font-weight:bold;display:inline-block;width:200px;\">WASHINGTON</span><span>vient de dscider , pour arrster le flot de timmigration chi- noise , d </span><hr/>"
      ],
      "text/plain": [
       "<IPython.core.display.HTML object>"
      ]
     },
     "metadata": {},
     "output_type": "display_data"
    },
    {
     "data": {
      "text/html": [
       "<span style=\"width:50px;display:inline-block;font-style:italic;\" id=\"231819\">231819</span><span style=\"padding-left:10px;width:650px;display:inline-block;\">cest ainsi que les explorateurs franjais , apres avoir reconnu k la lorgnette le</span><span style=\"font-weight:bold;display:inline-block;width:200px;\">WASHINGTON</span><span>, aper $ u par le lieutenant de greely , etle cap alexandre-ramsay , </span><hr/>"
      ],
      "text/plain": [
       "<IPython.core.display.HTML object>"
      ]
     },
     "metadata": {},
     "output_type": "display_data"
    },
    {
     "data": {
      "text/html": [
       "<span style=\"width:50px;display:inline-block;font-style:italic;\" id=\"234512\">234512</span><span style=\"padding-left:10px;width:650px;display:inline-block;\">de ses eaux pures , l' egale de la rome antique ou de la</span><span style=\"font-weight:bold;display:inline-block;width:200px;\">WASHINGTON</span><span>. aussi a-t-on songe k amener dans la capitale de l' eau prise hors </span><hr/>"
      ],
      "text/plain": [
       "<IPython.core.display.HTML object>"
      ]
     },
     "metadata": {},
     "output_type": "display_data"
    },
    {
     "data": {
      "text/html": [
       "<span style=\"width:50px;display:inline-block;font-style:italic;\" id=\"237099\">237099</span><span style=\"padding-left:10px;width:650px;display:inline-block;\">, les goaramis , poissons qu' on trouve dans les eaux de i' etat</span><span style=\"font-weight:bold;display:inline-block;width:200px;\">WASHINGTON</span><span>, con ¬ struisent leurs nids comme les oiseaux . au moment de la </span><hr/>"
      ],
      "text/plain": [
       "<IPython.core.display.HTML object>"
      ]
     },
     "metadata": {},
     "output_type": "display_data"
    },
    {
     "data": {
      "text/html": [
       "<span style=\"width:50px;display:inline-block;font-style:italic;\" id=\"243987\">243987</span><span style=\"padding-left:10px;width:650px;display:inline-block;\">nova duverge , — un.de nos confreres { annonce , d' apres une lettre</span><span style=\"font-weight:bold;display:inline-block;width:200px;\">WASHING-</span><span>on , que le gouvernement americain vient d' etre informe par telegrammc que m. </span><hr/>"
      ],
      "text/plain": [
       "<IPython.core.display.HTML object>"
      ]
     },
     "metadata": {},
     "output_type": "display_data"
    },
    {
     "data": {
      "text/html": [
       "<span style=\"width:50px;display:inline-block;font-style:italic;\" id=\"245153\">245153</span><span style=\"padding-left:10px;width:650px;display:inline-block;\">parages  de rio de janeiro / tannee t derniere . pour ren- trer</span><span style=\"font-weight:bold;display:inline-block;width:200px;\">WASHINGTON</span><span>' , . il ne troyva rien de mieux que' de cons- truire lui-meme \"</span><hr/>"
      ],
      "text/plain": [
       "<IPython.core.display.HTML object>"
      ]
     },
     "metadata": {},
     "output_type": "display_data"
    },
    {
     "data": {
      "text/html": [
       "<span style=\"width:50px;display:inline-block;font-style:italic;\" id=\"247589\">247589</span><span style=\"padding-left:10px;width:650px;display:inline-block;\">demander a la conference > maritime internationale , qui aura1 lieu l' automne prochain</span><span style=\"font-weight:bold;display:inline-block;width:200px;\">WASHINGTON</span><span>, d' exa- miner la question tr £ s importante des epaves flottantes qui </span><hr/>"
      ],
      "text/plain": [
       "<IPython.core.display.HTML object>"
      ]
     },
     "metadata": {},
     "output_type": "display_data"
    },
    {
     "data": {
      "text/html": [
       "<span style=\"width:50px;display:inline-block;font-style:italic;\" id=\"247598\">247598</span><span style=\"padding-left:10px;width:650px;display:inline-block;\">des chambres de commerce des villes mari times soit favorablement accueillie par la conference</span><span style=\"font-weight:bold;display:inline-block;width:200px;\">WASHINGTON</span><span>et que la question des epaves y soit definili- vement resolue , soit que </span><hr/>"
      ],
      "text/plain": [
       "<IPython.core.display.HTML object>"
      ]
     },
     "metadata": {},
     "output_type": "display_data"
    },
    {
     "data": {
      "text/html": [
       "<span style=\"width:50px;display:inline-block;font-style:italic;\" id=\"248286\">248286</span><span style=\"padding-left:10px;width:650px;display:inline-block;\">immigratldri aux etats- bjnis . — le chef du bureau des statis- tiques ,</span><span style=\"font-weight:bold;display:inline-block;width:200px;\">WASHINGTON</span><span>; vient de publier son.rapport mensuel sur l' immigration aux etats ' -unis pendant </span><hr/>"
      ],
      "text/plain": [
       "<IPython.core.display.HTML object>"
      ]
     },
     "metadata": {},
     "output_type": "display_data"
    },
    {
     "data": {
      "text/html": [
       "<span style=\"width:50px;display:inline-block;font-style:italic;\" id=\"249537\">249537</span><span style=\"padding-left:10px;width:650px;display:inline-block;\">de tout genre , sont deja groupes partout . le directeur general des postes</span><span style=\"font-weight:bold;display:inline-block;width:200px;\">WASHINGTON</span><span>a appris , par une depeche du directeur des postes de guthnie , — </span><hr/>"
      ],
      "text/plain": [
       "<IPython.core.display.HTML object>"
      ]
     },
     "metadata": {},
     "output_type": "display_data"
    },
    {
     "data": {
      "text/html": [
       "<span style=\"width:50px;display:inline-block;font-style:italic;\" id=\"251963\">251963</span><span style=\"padding-left:10px;width:650px;display:inline-block;\">concourut , sous les ordres du comte de grasse , à ravitailler les armées</span><span style=\"font-weight:bold;display:inline-block;width:200px;\">WASHINGTON</span><span>, de la fayette et de rochambeau . quand , peu après , le </span><hr/>"
      ],
      "text/plain": [
       "<IPython.core.display.HTML object>"
      ]
     },
     "metadata": {},
     "output_type": "display_data"
    },
    {
     "data": {
      "text/html": [
       "<span style=\"width:50px;display:inline-block;font-style:italic;\" id=\"252806\">252806</span><span style=\"padding-left:10px;width:650px;display:inline-block;\">pré cèdent à l' étranger comme en france . m. e. reclus se rend</span><span style=\"font-weight:bold;display:inline-block;width:200px;\">WASHINGTON</span><span>afin de consulter les cartes , chartes et documents , contenus dans les collection </span><hr/>"
      ],
      "text/plain": [
       "<IPython.core.display.HTML object>"
      ]
     },
     "metadata": {},
     "output_type": "display_data"
    },
    {
     "data": {
      "text/html": [
       "<span style=\"width:50px;display:inline-block;font-style:italic;\" id=\"253246\">253246</span><span style=\"padding-left:10px;width:650px;display:inline-block;\">, par edward yuang . ph. d. , chef du bureau de satistique .</span><span style=\"font-weight:bold;display:inline-block;width:200px;\">WASHINGTON</span><span>imnrimerie du gouvernement . remanié et corrigé . ( notre bibliothèque en possède des </span><hr/>"
      ],
      "text/plain": [
       "<IPython.core.display.HTML object>"
      ]
     },
     "metadata": {},
     "output_type": "display_data"
    },
    {
     "data": {
      "text/html": [
       "<span style=\"width:50px;display:inline-block;font-style:italic;\" id=\"254005\">254005</span><span style=\"padding-left:10px;width:650px;display:inline-block;\">sous les ordres de 175 chefs de divisions et de 2,000 commis aux écritures</span><span style=\"font-weight:bold;display:inline-block;width:200px;\">WASHINGTON</span><span>. le congrès alloue au surintendant porter 50 millions de francs , dont 20 </span><hr/>"
      ],
      "text/plain": [
       "<IPython.core.display.HTML object>"
      ]
     },
     "metadata": {},
     "output_type": "display_data"
    },
    {
     "data": {
      "text/html": [
       "<span style=\"width:50px;display:inline-block;font-style:italic;\" id=\"254278\">254278</span><span style=\"padding-left:10px;width:650px;display:inline-block;\">son exposition du centenaire ; boston est beau , mais trop lent à agir</span><span style=\"font-weight:bold;display:inline-block;width:200px;\">WASHINGTON</span><span>est trop petit ; saint-louis et chicago sont trop en dehors du courant normal </span><hr/>"
      ],
      "text/plain": [
       "<IPython.core.display.HTML object>"
      ]
     },
     "metadata": {},
     "output_type": "display_data"
    },
    {
     "data": {
      "text/html": [
       "<span style=\"width:50px;display:inline-block;font-style:italic;\" id=\"256072\">256072</span><span style=\"padding-left:10px;width:650px;display:inline-block;\">émigrer sans la promesse d' emploi , sera expulsée des états-unis . on mande</span><span style=\"font-weight:bold;display:inline-block;width:200px;\">WASHINGTON</span><span>que le chef du bureau des statistiques vient de publier son rapport mensuel sur </span><hr/>"
      ],
      "text/plain": [
       "<IPython.core.display.HTML object>"
      ]
     },
     "metadata": {},
     "output_type": "display_data"
    },
    {
     "data": {
      "text/html": [
       "<span style=\"width:50px;display:inline-block;font-style:italic;\" id=\"256944\">256944</span><span style=\"padding-left:10px;width:650px;display:inline-block;\">de lentrée qui a eu lieu récemment dans l' union des 4 nouveaux etats</span><span style=\"font-weight:bold;display:inline-block;width:200px;\">WASHINGTON</span><span>, north dakota , sud dakota et montana . chaque étoile représente un etat </span><hr/>"
      ],
      "text/plain": [
       "<IPython.core.display.HTML object>"
      ]
     },
     "metadata": {},
     "output_type": "display_data"
    },
    {
     "data": {
      "text/html": [
       "<span style=\"width:50px;display:inline-block;font-style:italic;\" id=\"257485\">257485</span><span style=\"padding-left:10px;width:650px;display:inline-block;\">jours de très grandes villes , qui disparaissent parfois aussi en peu d' années</span><span style=\"font-weight:bold;display:inline-block;width:200px;\">WASHINGTON</span><span>, capitale fédérale , l6o , âmes ; new-york , deux millions ; boston </span><hr/>"
      ],
      "text/plain": [
       "<IPython.core.display.HTML object>"
      ]
     },
     "metadata": {},
     "output_type": "display_data"
    },
    {
     "data": {
      "text/html": [
       "<span style=\"width:50px;display:inline-block;font-style:italic;\" id=\"259986\">259986</span><span style=\"padding-left:10px;width:650px;display:inline-block;\">le monde sait que la ville de chicago sera probablement choisie par le congrès</span><span style=\"font-weight:bold;display:inline-block;width:200px;\">WASHINGTON</span><span>pour l' honneur de servir de siège à la grande exposition de 4892 . </span><hr/>"
      ],
      "text/plain": [
       "<IPython.core.display.HTML object>"
      ]
     },
     "metadata": {},
     "output_type": "display_data"
    },
    {
     "data": {
      "text/html": [
       "<span style=\"width:50px;display:inline-block;font-style:italic;\" id=\"261298\">261298</span><span style=\"padding-left:10px;width:650px;display:inline-block;\">. la , discussion dura deux jours encore ; puis , le samedi 15</span><span style=\"font-weight:bold;display:inline-block;width:200px;\">WASHINGTON</span><span>proposa d' adopter l' acte dans sa forme présente . aucune voix ne supposant </span><hr/>"
      ],
      "text/plain": [
       "<IPython.core.display.HTML object>"
      ]
     },
     "metadata": {},
     "output_type": "display_data"
    },
    {
     "data": {
      "text/html": [
       "<span style=\"width:50px;display:inline-block;font-style:italic;\" id=\"261300\">261300</span><span style=\"padding-left:10px;width:650px;display:inline-block;\">était finie ; ses membres se réunirent le soir dans un dîner , et</span><span style=\"font-weight:bold;display:inline-block;width:200px;\">WASHINGTON</span><span>se retirait de bonne heure : « je rentre , dit-il à ses collègues </span><hr/>"
      ],
      "text/plain": [
       "<IPython.core.display.HTML object>"
      ]
     },
     "metadata": {},
     "output_type": "display_data"
    },
    {
     "data": {
      "text/html": [
       "<span style=\"width:50px;display:inline-block;font-style:italic;\" id=\"261338\">261338</span><span style=\"padding-left:10px;width:650px;display:inline-block;\">, l' union , une année après linauguration de son premier président , le</span><span style=\"font-weight:bold;display:inline-block;width:200px;\">WASHINGTON</span><span>, ne comptait que 3,920,000habitants . en 1820 la population atteint le chiffre de </span><hr/>"
      ],
      "text/plain": [
       "<IPython.core.display.HTML object>"
      ]
     },
     "metadata": {},
     "output_type": "display_data"
    },
    {
     "data": {
      "text/html": [
       "<span style=\"width:50px;display:inline-block;font-style:italic;\" id=\"265524\">265524</span><span style=\"padding-left:10px;width:650px;display:inline-block;\">près à celui dathène , de messine et de murcie pour l' europe ;</span><span style=\"font-weight:bold;display:inline-block;width:200px;\">WASHINGTON</span><span>et de san francisco pour les états-unis . cependant , dit m. j b. </span><hr/>"
      ],
      "text/plain": [
       "<IPython.core.display.HTML object>"
      ]
     },
     "metadata": {},
     "output_type": "display_data"
    },
    {
     "data": {
      "text/html": [
       "<span style=\"width:50px;display:inline-block;font-style:italic;\" id=\"265740\">265740</span><span style=\"padding-left:10px;width:650px;display:inline-block;\">y a deux ou douze polygames sur cent chez les mormons . le gouvernement</span><span style=\"font-weight:bold;display:inline-block;width:200px;\">WASHINGTON</span><span>a donc une autre raison que celle qu' il invoque à poursuivre les mor-mons </span><hr/>"
      ],
      "text/plain": [
       "<IPython.core.display.HTML object>"
      ]
     },
     "metadata": {},
     "output_type": "display_data"
    },
    {
     "data": {
      "text/html": [
       "<span style=\"width:50px;display:inline-block;font-style:italic;\" id=\"266157\">266157</span><span style=\"padding-left:10px;width:650px;display:inline-block;\">qui un nommé barnum avait soutiré des mil-lions en leur montrant la nourrice du</span><span style=\"font-weight:bold;display:inline-block;width:200px;\">WASHINGTON</span><span>? — rien de plus vrai , j' ai fait le boniment à la </span><hr/>"
      ],
      "text/plain": [
       "<IPython.core.display.HTML object>"
      ]
     },
     "metadata": {},
     "output_type": "display_data"
    },
    {
     "data": {
      "text/html": [
       "<span style=\"width:50px;display:inline-block;font-style:italic;\" id=\"269404\">269404</span><span style=\"padding-left:10px;width:650px;display:inline-block;\">dit-il . — a la rencontre de votre navire . — par ? ...</span><span style=\"font-weight:bold;display:inline-block;width:200px;\">WASHINGTON</span><span>. de gany , au nom de cette capitale , ne put retenir un </span><hr/>"
      ],
      "text/plain": [
       "<IPython.core.display.HTML object>"
      ]
     },
     "metadata": {},
     "output_type": "display_data"
    },
    {
     "data": {
      "text/html": [
       "<span style=\"width:50px;display:inline-block;font-style:italic;\" id=\"269423\">269423</span><span style=\"padding-left:10px;width:650px;display:inline-block;\">, le mécanicien du bord , — montèrént dans le premier train qui ,</span><span style=\"font-weight:bold;display:inline-block;width:200px;\">WASHINGTON</span><span>, richmond , pétersburg et weldon , qu' ils traversèrent sans s' arrêter , </span><hr/>"
      ],
      "text/plain": [
       "<IPython.core.display.HTML object>"
      ]
     },
     "metadata": {},
     "output_type": "display_data"
    },
    {
     "data": {
      "text/html": [
       "<span style=\"width:50px;display:inline-block;font-style:italic;\" id=\"269706\">269706</span><span style=\"padding-left:10px;width:650px;display:inline-block;\">il reçutles félicitations du congrès , une médaille d' or et une lettre flatteuse</span><span style=\"font-weight:bold;display:inline-block;width:200px;\">WASHINGTON</span><span>. jones passa le reste du temps que dura la guerre sur la flotte </span><hr/>"
      ],
      "text/plain": [
       "<IPython.core.display.HTML object>"
      ]
     },
     "metadata": {},
     "output_type": "display_data"
    },
    {
     "data": {
      "text/html": [
       "<span style=\"width:50px;display:inline-block;font-style:italic;\" id=\"272606\">272606</span><span style=\"padding-left:10px;width:650px;display:inline-block;\">, du moins les plus importantes alors : new-york ; ' boston , philadelphie</span><span style=\"font-weight:bold;display:inline-block;width:200px;\">WASHINGTON</span><span>, ^ richmond , georgetown , savannah , la nouvelle-orléans , etc. il est </span><hr/>"
      ],
      "text/plain": [
       "<IPython.core.display.HTML object>"
      ]
     },
     "metadata": {},
     "output_type": "display_data"
    },
    {
     "data": {
      "text/html": [
       "<span style=\"width:50px;display:inline-block;font-style:italic;\" id=\"273552\">273552</span><span style=\"padding-left:10px;width:650px;display:inline-block;\">25,000 ' francs ) à quiconque lui amènerait un cheval plus grand que le</span><span style=\"font-weight:bold;display:inline-block;width:200px;\">WASHINGTON</span><span>. l' autre cheval , le nain , était un petit cheval d' islande </span><hr/>"
      ],
      "text/plain": [
       "<IPython.core.display.HTML object>"
      ]
     },
     "metadata": {},
     "output_type": "display_data"
    },
    {
     "data": {
      "text/html": [
       "<span style=\"width:50px;display:inline-block;font-style:italic;\" id=\"273557\">273557</span><span style=\"padding-left:10px;width:650px;display:inline-block;\">cheval caracolait dans les herbes hautes où il disparaissait presque . le ' grand</span><span style=\"font-weight:bold;display:inline-block;width:200px;\">WASHINGTON</span><span>, la tête à là fenêtre ' #### de lécurie , suivait des yeux </span><hr/>"
      ],
      "text/plain": [
       "<IPython.core.display.HTML object>"
      ]
     },
     "metadata": {},
     "output_type": "display_data"
    },
    {
     "data": {
      "text/html": [
       "<span style=\"width:50px;display:inline-block;font-style:italic;\" id=\"273558\">273558</span><span style=\"padding-left:10px;width:650px;display:inline-block;\">puis une seconde et d' autres — encore ... c' était pitié ! le</span><span style=\"font-weight:bold;display:inline-block;width:200px;\">WASHINGTON</span><span>suivait des — yeux cette course folie qu' on imposait & son compagnon d' </span><hr/>"
      ],
      "text/plain": [
       "<IPython.core.display.HTML object>"
      ]
     },
     "metadata": {},
     "output_type": "display_data"
    },
    {
     "data": {
      "text/html": [
       "<span style=\"width:50px;display:inline-block;font-style:italic;\" id=\"273565\">273565</span><span style=\"padding-left:10px;width:650px;display:inline-block;\">. il tomba pour ne plus se relever , au moment même oœ le</span><span style=\"font-weight:bold;display:inline-block;width:200px;\">WASHINGTON</span><span>n' était plus qu' oil quelques mètres du palefrenier . avant que le mauvais </span><hr/>"
      ],
      "text/plain": [
       "<IPython.core.display.HTML object>"
      ]
     },
     "metadata": {},
     "output_type": "display_data"
    },
    {
     "data": {
      "text/html": [
       "<span style=\"width:50px;display:inline-block;font-style:italic;\" id=\"273660\">273660</span><span style=\"padding-left:10px;width:650px;display:inline-block;\">sujet bien fait pour attirer l' attention des philanthropes . pendant la révolution américaine</span><span style=\"font-weight:bold;display:inline-block;width:200px;\">WASHINGTON</span><span>surprit les troupes françaises faisant la chasse aux sauterelles pendant la nuit , les </span><hr/>"
      ],
      "text/plain": [
       "<IPython.core.display.HTML object>"
      ]
     },
     "metadata": {},
     "output_type": "display_data"
    },
    {
     "data": {
      "text/html": [
       "<span style=\"width:50px;display:inline-block;font-style:italic;\" id=\"276279\">276279</span><span style=\"padding-left:10px;width:650px;display:inline-block;\">ont à transmettre en communication jusqu' à cent dépêches par jour . la þopulation</span><span style=\"font-weight:bold;display:inline-block;width:200px;\">WASHINGTON</span><span>. — d' après le recensement-qui vient d' être achevé , .la ville de </span><hr/>"
      ],
      "text/plain": [
       "<IPython.core.display.HTML object>"
      ]
     },
     "metadata": {},
     "output_type": "display_data"
    },
    {
     "data": {
      "text/html": [
       "<span style=\"width:50px;display:inline-block;font-style:italic;\" id=\"276280\">276280</span><span style=\"padding-left:10px;width:650px;display:inline-block;\">washington . — d' après le recensement-qui vient d' être achevé , .la ville</span><span style=\"font-weight:bold;display:inline-block;width:200px;\">WASHINGTON</span><span>compté actuellement 227,000 habitants , ce qui constitue une augmentation de 24,000 depuis le </span><hr/>"
      ],
      "text/plain": [
       "<IPython.core.display.HTML object>"
      ]
     },
     "metadata": {},
     "output_type": "display_data"
    },
    {
     "data": {
      "text/html": [
       "<span style=\"width:50px;display:inline-block;font-style:italic;\" id=\"279554\">279554</span><span style=\"padding-left:10px;width:650px;display:inline-block;\">. . . ....................... 16 population ( la ) de paris ...................... 111 population</span><span style=\"font-weight:bold;display:inline-block;width:200px;\">WASHINGTON</span><span>...... 256 port-arthur ............. . · 79 position d' arguin ......... . . 80 </span><hr/>"
      ],
      "text/plain": [
       "<IPython.core.display.HTML object>"
      ]
     },
     "metadata": {},
     "output_type": "display_data"
    },
    {
     "data": {
      "text/html": [
       "<span style=\"width:50px;display:inline-block;font-style:italic;\" id=\"281238\">281238</span><span style=\"padding-left:10px;width:650px;display:inline-block;\">qu' en faisant ces recherches , nous avons trouve pour la premiere . le</span><span style=\"font-weight:bold;display:inline-block;width:200px;\">WASHINGTON</span><span>avait la con- fiance la plus absolue dans le bon sens , ia droiture </span><hr/>"
      ],
      "text/plain": [
       "<IPython.core.display.HTML object>"
      ]
     },
     "metadata": {},
     "output_type": "display_data"
    },
    {
     "data": {
      "text/html": [
       "<span style=\"width:50px;display:inline-block;font-style:italic;\" id=\"281240\">281240</span><span style=\"padding-left:10px;width:650px;display:inline-block;\">circons- tances graves , ' lorsqu' une mesure de grande importance etait en discussion</span><span style=\"font-weight:bold;display:inline-block;width:200px;\">WASHINGTON</span><span>ne manquait jamais d' inter- rompreledebat en disant : « ii nous faudra consulter </span><hr/>"
      ],
      "text/plain": [
       "<IPython.core.display.HTML object>"
      ]
     },
     "metadata": {},
     "output_type": "display_data"
    },
    {
     "data": {
      "text/html": [
       "<span style=\"width:50px;display:inline-block;font-style:italic;\" id=\"288588\">288588</span><span style=\"padding-left:10px;width:650px;display:inline-block;\">a droit & etre repre- sente par deux statues dans tornementa- tion du gapitole</span><span style=\"font-weight:bold;display:inline-block;width:200px;\">WASHINGTON</span><span>; et il propose que i' une de ces deux statues soit consacree k </span><hr/>"
      ],
      "text/plain": [
       "<IPython.core.display.HTML object>"
      ]
     },
     "metadata": {},
     "output_type": "display_data"
    },
    {
     "data": {
      "text/html": [
       "<span style=\"width:50px;display:inline-block;font-style:italic;\" id=\"288599\">288599</span><span style=\"padding-left:10px;width:650px;display:inline-block;\">loi sera sfirement vote , et la statue du pere p. marquette figureraau gapitole</span><span style=\"font-weight:bold;display:inline-block;width:200px;\">WASHINGTON</span><span>parmi les illus- trations des etats-unis . bresil . climatologie — l' annuaire de </span><hr/>"
      ],
      "text/plain": [
       "<IPython.core.display.HTML object>"
      ]
     },
     "metadata": {},
     "output_type": "display_data"
    },
    {
     "data": {
      "text/html": [
       "<span style=\"width:50px;display:inline-block;font-style:italic;\" id=\"289201\">289201</span><span style=\"padding-left:10px;width:650px;display:inline-block;\">s.eriat leur adressa des felicitations publiques et une deputation du gohgres , expressement ve-nue</span><span style=\"font-weight:bold;display:inline-block;width:200px;\">WASHINGTON</span><span>, leur dedara « qu' iis avaient bien merits dethumanite > . adrian broiville </span><hr/>"
      ],
      "text/plain": [
       "<IPython.core.display.HTML object>"
      ]
     },
     "metadata": {},
     "output_type": "display_data"
    },
    {
     "data": {
      "text/html": [
       "<span style=\"width:50px;display:inline-block;font-style:italic;\" id=\"297283\">297283</span><span style=\"padding-left:10px;width:650px;display:inline-block;\">a droit a etre repre- sente par deux statues dans pornementa- tion du cnpitole</span><span style=\"font-weight:bold;display:inline-block;width:200px;\">WASHINGTON</span><span>; et il propose que pune de ces deux statues soit consacr6e a la </span><hr/>"
      ],
      "text/plain": [
       "<IPython.core.display.HTML object>"
      ]
     },
     "metadata": {},
     "output_type": "display_data"
    },
    {
     "data": {
      "text/html": [
       "<span style=\"width:50px;display:inline-block;font-style:italic;\" id=\"297290\">297290</span><span style=\"padding-left:10px;width:650px;display:inline-block;\">sera surement vote , et la statue du pere p. marquette tfgurera au capitole</span><span style=\"font-weight:bold;display:inline-block;width:200px;\">WASHINGTON</span><span>parmi les illus- trations des etats-unis . rresll . climatologie — uannuaire de vobservatoire </span><hr/>"
      ],
      "text/plain": [
       "<IPython.core.display.HTML object>"
      ]
     },
     "metadata": {},
     "output_type": "display_data"
    },
    {
     "data": {
      "text/html": [
       "<span style=\"width:50px;display:inline-block;font-style:italic;\" id=\"297915\">297915</span><span style=\"padding-left:10px;width:650px;display:inline-block;\">leur adressil des felicitations publiques et une deputation du congl' es , expressement venuede</span><span style=\"font-weight:bold;display:inline-block;width:200px;\">VASHINGTON</span><span>, leur deciara qu' ils avaient. bien merite de l' htimanite adrian broiville et </span><hr/>"
      ],
      "text/plain": [
       "<IPython.core.display.HTML object>"
      ]
     },
     "metadata": {},
     "output_type": "display_data"
    },
    {
     "data": {
      "text/html": [
       "<span style=\"width:50px;display:inline-block;font-style:italic;\" id=\"305260\">305260</span><span style=\"padding-left:10px;width:650px;display:inline-block;\">montagnes rocheuses qui s' étale comme à plaisir sur une grande partie du territoire</span><span style=\"font-weight:bold;display:inline-block;width:200px;\">WASHINGTON</span><span>et des états de montana et d' idaho , on conçoit sans peine qu' </span><hr/>"
      ],
      "text/plain": [
       "<IPython.core.display.HTML object>"
      ]
     },
     "metadata": {},
     "output_type": "display_data"
    },
    {
     "data": {
      "text/html": [
       "<span style=\"width:50px;display:inline-block;font-style:italic;\" id=\"305599\">305599</span><span style=\"padding-left:10px;width:650px;display:inline-block;\">homme rouge croit-il que des chas-seurs  blancs , venus du pays du grand-père</span><span style=\"font-weight:bold;display:inline-block;width:200px;\">WASHINGTON</span><span>, parlent le langage des guerriers de la prairie . — mon frère ne \"</span><hr/>"
      ],
      "text/plain": [
       "<IPython.core.display.HTML object>"
      ]
     },
     "metadata": {},
     "output_type": "display_data"
    },
    {
     "data": {
      "text/html": [
       "<span style=\"width:50px;display:inline-block;font-style:italic;\" id=\"306118\">306118</span><span style=\"padding-left:10px;width:650px;display:inline-block;\">en stipulant qu' ils n' auraient aucune distribution . « je fis le voyage</span><span style=\"font-weight:bold;display:inline-block;width:200px;\">WASHINGTON</span><span>et j' expliquai mes raisons au ministre , qui les comprit et les admit </span><hr/>"
      ],
      "text/plain": [
       "<IPython.core.display.HTML object>"
      ]
     },
     "metadata": {},
     "output_type": "display_data"
    },
    {
     "data": {
      "text/html": [
       "<span style=\"width:50px;display:inline-block;font-style:italic;\" id=\"306713\">306713</span><span style=\"padding-left:10px;width:650px;display:inline-block;\">dans la lutte qui devait avoir lieu le lendemain . a l' australian et</span><span style=\"font-weight:bold;display:inline-block;width:200px;\">WASHINGTON</span><span>clubs , les citoyens des deux nations offraient un punch d' honneur aux deux </span><hr/>"
      ],
      "text/plain": [
       "<IPython.core.display.HTML object>"
      ]
     },
     "metadata": {},
     "output_type": "display_data"
    },
    {
     "data": {
      "text/html": [
       "<span style=\"width:50px;display:inline-block;font-style:italic;\" id=\"306718\">306718</span><span style=\"padding-left:10px;width:650px;display:inline-block;\">la soirée donnée à james tyler . tout à coup des applaudissements prolongés éclatèrent</span><span style=\"font-weight:bold;display:inline-block;width:200px;\">WASHINGTON</span><span>; m. de funcal , en grand costume , assisté de tout son personnel </span><hr/>"
      ],
      "text/plain": [
       "<IPython.core.display.HTML object>"
      ]
     },
     "metadata": {},
     "output_type": "display_data"
    },
    {
     "data": {
      "text/html": [
       "<span style=\"width:50px;display:inline-block;font-style:italic;\" id=\"307890\">307890</span><span style=\"padding-left:10px;width:650px;display:inline-block;\">sur le territoire des pendants-d' oreille , des indiens dégénérés devenus sujets du grand-père</span><span style=\"font-weight:bold;display:inline-block;width:200px;\">WASHINGTON</span><span>, ils vont hâter les apprêts du supplice . · ^ « demain , </span><hr/>"
      ],
      "text/plain": [
       "<IPython.core.display.HTML object>"
      ]
     },
     "metadata": {},
     "output_type": "display_data"
    },
    {
     "data": {
      "text/html": [
       "<span style=\"width:50px;display:inline-block;font-style:italic;\" id=\"308143\">308143</span><span style=\"padding-left:10px;width:650px;display:inline-block;\">argent qui lui a été jadis don- née par le président lincoln lui-même ,</span><span style=\"font-weight:bold;display:inline-block;width:200px;\">WASHINGTON</span><span>, lorsqu' il fut chargé d' une mission près du gouvernement . g' està </span><hr/>"
      ],
      "text/plain": [
       "<IPython.core.display.HTML object>"
      ]
     },
     "metadata": {},
     "output_type": "display_data"
    },
    {
     "data": {
      "text/html": [
       "<span style=\"width:50px;display:inline-block;font-style:italic;\" id=\"308456\">308456</span><span style=\"padding-left:10px;width:650px;display:inline-block;\">hui encore , quand vous êtes en guerre contre les soldats du grand-père de</span><span style=\"font-weight:bold;display:inline-block;width:200px;\">WASHINGTON</span><span>, ou cherchez-vous un refuge , sinon chez les descendants de nos ancêtres qui </span><hr/>"
      ],
      "text/plain": [
       "<IPython.core.display.HTML object>"
      ]
     },
     "metadata": {},
     "output_type": "display_data"
    },
    {
     "data": {
      "text/html": [
       "<span style=\"width:50px;display:inline-block;font-style:italic;\" id=\"311643\">311643</span><span style=\"padding-left:10px;width:650px;display:inline-block;\">pour donner anx farmers la faculté de venir admirer cette œuvre incomparable . la</span><span style=\"font-weight:bold;display:inline-block;width:200px;\">WASHINGTON</span><span>et les rues adjacentes de iíearny , de montgomery , de sacramento , de </span><hr/>"
      ],
      "text/plain": [
       "<IPython.core.display.HTML object>"
      ]
     },
     "metadata": {},
     "output_type": "display_data"
    },
    {
     "data": {
      "text/html": [
       "<span style=\"width:50px;display:inline-block;font-style:italic;\" id=\"313420\">313420</span><span style=\"padding-left:10px;width:650px;display:inline-block;\">rocheuses qui s' etale comme a plaisir sur u ne grande partie du territoire</span><span style=\"font-weight:bold;display:inline-block;width:200px;\">WASHINGTON</span><span>et des 6tats de montana et d' idaho , on congoit sans peine qu' </span><hr/>"
      ],
      "text/plain": [
       "<IPython.core.display.HTML object>"
      ]
     },
     "metadata": {},
     "output_type": "display_data"
    },
    {
     "data": {
      "text/html": [
       "<span style=\"width:50px;display:inline-block;font-style:italic;\" id=\"313723\">313723</span><span style=\"padding-left:10px;width:650px;display:inline-block;\">croit-il que des chas seurs blancs , . venus du pays du grand- p6re</span><span style=\"font-weight:bold;display:inline-block;width:200px;\">WASHINGTON</span><span>parlentle laingage des guerriers de • la prairie . — mon frere ne connait </span><hr/>"
      ],
      "text/plain": [
       "<IPython.core.display.HTML object>"
      ]
     },
     "metadata": {},
     "output_type": "display_data"
    },
    {
     "data": {
      "text/html": [
       "<span style=\"width:50px;display:inline-block;font-style:italic;\" id=\"314201\">314201</span><span style=\"padding-left:10px;width:650px;display:inline-block;\">en stipulant qu' ils n' auraient aucune distribution . « je fis le voyage</span><span style=\"font-weight:bold;display:inline-block;width:200px;\">WASHINGTON</span><span>et j' expliquai mes raisons au ministre , qui les comprit et les admit </span><hr/>"
      ],
      "text/plain": [
       "<IPython.core.display.HTML object>"
      ]
     },
     "metadata": {},
     "output_type": "display_data"
    },
    {
     "data": {
      "text/html": [
       "<span style=\"width:50px;display:inline-block;font-style:italic;\" id=\"314732\">314732</span><span style=\"padding-left:10px;width:650px;display:inline-block;\">james tyler , vainqueur futur de tom powell . etl' amfiricain avait jur $</span><span style=\"font-weight:bold;display:inline-block;width:200px;\">WASHINGTON</span><span>< image > < / image > passait egalement pour poss ^ der un </span><hr/>"
      ],
      "text/plain": [
       "<IPython.core.display.HTML object>"
      ]
     },
     "metadata": {},
     "output_type": "display_data"
    },
    {
     "data": {
      "text/html": [
       "<span style=\"width:50px;display:inline-block;font-style:italic;\" id=\"315424\">315424</span><span style=\"padding-left:10px;width:650px;display:inline-block;\">qui devait avoir lieu le len ¬ demain . a 1 ' australian et</span><span style=\"font-weight:bold;display:inline-block;width:200px;\">WASHINGTON</span><span>clubs , les citoyens des deux nations offraient un punch d' honneur aux deux </span><hr/>"
      ],
      "text/plain": [
       "<IPython.core.display.HTML object>"
      ]
     },
     "metadata": {},
     "output_type": "display_data"
    },
    {
     "data": {
      "text/html": [
       "<span style=\"width:50px;display:inline-block;font-style:italic;\" id=\"316586\">316586</span><span style=\"padding-left:10px;width:650px;display:inline-block;\">, des indiens d6g £ ner £ s d even us sujets du grand-pere</span><span style=\"font-weight:bold;display:inline-block;width:200px;\">WASHINGTON</span><span>, ils vont h & ter lesapprdts du supplice . « demain , le </span><hr/>"
      ],
      "text/plain": [
       "<IPython.core.display.HTML object>"
      ]
     },
     "metadata": {},
     "output_type": "display_data"
    },
    {
     "data": {
      "text/html": [
       "<span style=\"width:50px;display:inline-block;font-style:italic;\" id=\"316815\">316815</span><span style=\"padding-left:10px;width:650px;display:inline-block;\">d' argent qui lui a etejadis don- nee par io president lincoln lui-meme ,</span><span style=\"font-weight:bold;display:inline-block;width:200px;\">WASHINGTON</span><span>, lorsqu' il fut charge d' une mission pr £ s du gouvernement . </span><hr/>"
      ],
      "text/plain": [
       "<IPython.core.display.HTML object>"
      ]
     },
     "metadata": {},
     "output_type": "display_data"
    },
    {
     "data": {
      "text/html": [
       "<span style=\"width:50px;display:inline-block;font-style:italic;\" id=\"317119\">317119</span><span style=\"padding-left:10px;width:650px;display:inline-block;\">encore , quand vous etes en guerre contre les soldats du grand * pfcre</span><span style=\"font-weight:bold;display:inline-block;width:200px;\">WASHINGTON</span><span>, oil cherchez-vous un refuge , sinon chez les descendants de nos ancetres , </span><hr/>"
      ],
      "text/plain": [
       "<IPython.core.display.HTML object>"
      ]
     },
     "metadata": {},
     "output_type": "display_data"
    },
    {
     "data": {
      "text/html": [
       "<span style=\"width:50px;display:inline-block;font-style:italic;\" id=\"320170\">320170</span><span style=\"padding-left:10px;width:650px;display:inline-block;\">donner anx farmers la fa- culte de venir admirer cette ceuvre in-comparable . la</span><span style=\"font-weight:bold;display:inline-block;width:200px;\">WASHINGTON</span><span>et les rues adja- centes de kearny , de montgomery , de sa-cramento , </span><hr/>"
      ],
      "text/plain": [
       "<IPython.core.display.HTML object>"
      ]
     },
     "metadata": {},
     "output_type": "display_data"
    },
    {
     "data": {
      "text/html": [
       "<span style=\"width:50px;display:inline-block;font-style:italic;\" id=\"322731\">322731</span><span style=\"padding-left:10px;width:650px;display:inline-block;\">alors , je debutais dans la diplomatie comme atta-che & la legation de france</span><span style=\"font-weight:bold;display:inline-block;width:200px;\">WASHINGTON</span><span>, notre consul k san francisco etant tombe malade , je fus envoys dans </span><hr/>"
      ],
      "text/plain": [
       "<IPython.core.display.HTML object>"
      ]
     },
     "metadata": {},
     "output_type": "display_data"
    },
    {
     "data": {
      "text/html": [
       "<span style=\"width:50px;display:inline-block;font-style:italic;\" id=\"322736\">322736</span><span style=\"padding-left:10px;width:650px;display:inline-block;\">comte . un soir , au coin de la rue clay , prds du</span><span style=\"font-weight:bold;display:inline-block;width:200px;\">WASHINGTON</span><span>, un jeune homme de vingt ans a peine pleu- lis reneontrfcrent le pauvre </span><hr/>"
      ],
      "text/plain": [
       "<IPython.core.display.HTML object>"
      ]
     },
     "metadata": {},
     "output_type": "display_data"
    },
    {
     "data": {
      "text/html": [
       "<span style=\"width:50px;display:inline-block;font-style:italic;\" id=\"323797\">323797</span><span style=\"padding-left:10px;width:650px;display:inline-block;\">effraye , ni mdme qui dtonne ; maisunadrollthedelatailledeceluiquiest tortibd en septembredernier dans le comtd</span><span style=\"font-weight:bold;display:inline-block;width:200px;\">WASHINGTON</span><span>, et que le professeur eme- rick vient seuiement de retrouver aprds de longues </span><hr/>"
      ],
      "text/plain": [
       "<IPython.core.display.HTML object>"
      ]
     },
     "metadata": {},
     "output_type": "display_data"
    },
    {
     "data": {
      "text/html": [
       "<span style=\"width:50px;display:inline-block;font-style:italic;\" id=\"325119\">325119</span><span style=\"padding-left:10px;width:650px;display:inline-block;\">cela , £ tats-unis : la maison-blanche . ~ nous trouvons dans un journal</span><span style=\"font-weight:bold;display:inline-block;width:200px;\">WASHINGTON</span><span>les curieux details que void sur la maison-blanche , residence offi- cielle du president </span><hr/>"
      ],
      "text/plain": [
       "<IPython.core.display.HTML object>"
      ]
     },
     "metadata": {},
     "output_type": "display_data"
    },
    {
     "data": {
      "text/html": [
       "<span style=\"width:50px;display:inline-block;font-style:italic;\" id=\"330051\">330051</span><span style=\"padding-left:10px;width:650px;display:inline-block;\">celui qui traverse l' ile de fer , aux canaries ; les américains ont</span><span style=\"font-weight:bold;display:inline-block;width:200px;\">WASHINGTON</span><span>, les indoùs oudje' ín , et les français paris . on va donc </span><hr/>"
      ],
      "text/plain": [
       "<IPython.core.display.HTML object>"
      ]
     },
     "metadata": {},
     "output_type": "display_data"
    },
    {
     "data": {
      "text/html": [
       "<span style=\"width:50px;display:inline-block;font-style:italic;\" id=\"330329\">330329</span><span style=\"padding-left:10px;width:650px;display:inline-block;\">» . le nom bizarre de la montagne a pour origine un conte que</span><span style=\"font-weight:bold;display:inline-block;width:200px;\">WASHINGTON</span><span>irviog , dans son histoire deskníckerboçkers ou nobles descendants des hollandais , fondateurs de </span><hr/>"
      ],
      "text/plain": [
       "<IPython.core.display.HTML object>"
      ]
     },
     "metadata": {},
     "output_type": "display_data"
    },
    {
     "data": {
      "text/html": [
       "<span style=\"width:50px;display:inline-block;font-style:italic;\" id=\"330642\">330642</span><span style=\"padding-left:10px;width:650px;display:inline-block;\">craignait que la mort l' eût oublié . depuis son premier vote pour le</span><span style=\"font-weight:bold;display:inline-block;width:200px;\">WASHINGTON</span><span>, il ne manqua aucune élection , et , pendant les soixante-seize dernières années </span><hr/>"
      ],
      "text/plain": [
       "<IPython.core.display.HTML object>"
      ]
     },
     "metadata": {},
     "output_type": "display_data"
    },
    {
     "data": {
      "text/html": [
       "<span style=\"width:50px;display:inline-block;font-style:italic;\" id=\"339170\">339170</span><span style=\"padding-left:10px;width:650px;display:inline-block;\">haï ) , mise en branle pour annoncer au peuple le vote du congrès</span><span style=\"font-weight:bold;display:inline-block;width:200px;\">WASHINGTON</span><span>et marker parurent à la fenêtre et déplièrent le drapeau national , l' enthousiasme </span><hr/>"
      ],
      "text/plain": [
       "<IPython.core.display.HTML object>"
      ]
     },
     "metadata": {},
     "output_type": "display_data"
    },
    {
     "data": {
      "text/html": [
       "<span style=\"width:50px;display:inline-block;font-style:italic;\" id=\"341248\">341248</span><span style=\"padding-left:10px;width:650px;display:inline-block;\">le grand condé , ambroise paré , fénelon , le général foy , béranger</span><span style=\"font-weight:bold;display:inline-block;width:200px;\">WASHINGTON</span><span>, la fayette , gutenberg , talma , goethe , pierre corneille , pour </span><hr/>"
      ],
      "text/plain": [
       "<IPython.core.display.HTML object>"
      ]
     },
     "metadata": {},
     "output_type": "display_data"
    },
    {
     "data": {
      "text/html": [
       "<span style=\"width:50px;display:inline-block;font-style:italic;\" id=\"343936\">343936</span><span style=\"padding-left:10px;width:650px;display:inline-block;\">général et qui avait essayé de lutter en faisant des manœuvres à la façon</span><span style=\"font-weight:bold;display:inline-block;width:200px;\">WASHINGTON</span><span>ou de napoléon . nous lavions saisi avec ses principaux officiers . nous avions </span><hr/>"
      ],
      "text/plain": [
       "<IPython.core.display.HTML object>"
      ]
     },
     "metadata": {},
     "output_type": "display_data"
    },
    {
     "data": {
      "text/html": [
       "<span style=\"width:50px;display:inline-block;font-style:italic;\" id=\"348535\">348535</span><span style=\"padding-left:10px;width:650px;display:inline-block;\">s' était enrôlé dans le corps d' armée commandé par lafayette sous les ordres</span><span style=\"font-weight:bold;display:inline-block;width:200px;\">WASHINGTON</span><span>; il était devenu capitaine dans le régiment de pensyl-vanie , commandé par le </span><hr/>"
      ],
      "text/plain": [
       "<IPython.core.display.HTML object>"
      ]
     },
     "metadata": {},
     "output_type": "display_data"
    },
    {
     "data": {
      "text/html": [
       "<span style=\"width:50px;display:inline-block;font-style:italic;\" id=\"348540\">348540</span><span style=\"padding-left:10px;width:650px;display:inline-block;\">cela ne donne lieu à une attaque générale et ne dérange les , plans</span><span style=\"font-weight:bold;display:inline-block;width:200px;\">WASHINGTON</span><span>. ' < < — j' irai seul t répond l' héroïque colonel . </span><hr/>"
      ],
      "text/plain": [
       "<IPython.core.display.HTML object>"
      ]
     },
     "metadata": {},
     "output_type": "display_data"
    },
    {
     "data": {
      "text/html": [
       "<span style=\"width:50px;display:inline-block;font-style:italic;\" id=\"353096\">353096</span><span style=\"padding-left:10px;width:650px;display:inline-block;\">bonne parole . « tu commences à t' aguerrir . i voici l' état</span><span style=\"font-weight:bold;display:inline-block;width:200px;\">WASHINGTON</span><span>et , dieu me pardonne ! un tronçon de chemin de de fer qui </span><hr/>"
      ],
      "text/plain": [
       "<IPython.core.display.HTML object>"
      ]
     },
     "metadata": {},
     "output_type": "display_data"
    },
    {
     "data": {
      "text/html": [
       "<span style=\"width:50px;display:inline-block;font-style:italic;\" id=\"353099\">353099</span><span style=\"padding-left:10px;width:650px;display:inline-block;\">ile de l' amirauté , nous conduit à travers une partie de l' état</span><span style=\"font-weight:bold;display:inline-block;width:200px;\">WASHINGTON</span><span>et l' oré-gon , jusqu' à canonville , située par 43 ° de latitude </span><hr/>"
      ],
      "text/plain": [
       "<IPython.core.display.HTML object>"
      ]
     },
     "metadata": {},
     "output_type": "display_data"
    },
    {
     "data": {
      "text/html": [
       "<span style=\"width:50px;display:inline-block;font-style:italic;\" id=\"361422\">361422</span><span style=\"padding-left:10px;width:650px;display:inline-block;\">montagnès rocheuses . « le prétexte allégue etait des plus singuliers . le cabinét</span><span style=\"font-weight:bold;display:inline-block;width:200px;\">WASHINGTON</span><span>n' eût-il pas l' idea de revendiquer ce terri- toire comme dependance de ... </span><hr/>"
      ],
      "text/plain": [
       "<IPython.core.display.HTML object>"
      ]
     },
     "metadata": {},
     "output_type": "display_data"
    },
    {
     "data": {
      "text/html": [
       "<span style=\"width:50px;display:inline-block;font-style:italic;\" id=\"361690\">361690</span><span style=\"padding-left:10px;width:650px;display:inline-block;\">est tête de ligne du chemin de fer traversant la partie méridionale de lítat</span><span style=\"font-weight:bold;display:inline-block;width:200px;\">WASHINGTON</span><span>et celui de l' orégon presque tout entier . afin d' éviter les escarpements </span><hr/>"
      ],
      "text/plain": [
       "<IPython.core.display.HTML object>"
      ]
     },
     "metadata": {},
     "output_type": "display_data"
    },
    {
     "data": {
      "text/html": [
       "<span style=\"width:50px;display:inline-block;font-style:italic;\" id=\"361728\">361728</span><span style=\"padding-left:10px;width:650px;display:inline-block;\">du petit tronçon reliant à la ligne principale olympia , la capitale du territoire</span><span style=\"font-weight:bold;display:inline-block;width:200px;\">WASHINGTON</span><span>. quelques gamins portant des liasses de journaux , avait lestement escaladé les plates-formes </span><hr/>"
      ],
      "text/plain": [
       "<IPython.core.display.HTML object>"
      ]
     },
     "metadata": {},
     "output_type": "display_data"
    },
    {
     "data": {
      "text/html": [
       "<span style=\"width:50px;display:inline-block;font-style:italic;\" id=\"362098\">362098</span><span style=\"padding-left:10px;width:650px;display:inline-block;\">quand le train s' ar-rêta enfin . on était à canonville . le ter-ritoire</span><span style=\"font-weight:bold;display:inline-block;width:200px;\">WASHINGTON</span><span>, et l' énorme fleuve colombien qui lui sert de limite au sud , </span><hr/>"
      ],
      "text/plain": [
       "<IPython.core.display.HTML object>"
      ]
     },
     "metadata": {},
     "output_type": "display_data"
    },
    {
     "data": {
      "text/html": [
       "<span style=\"width:50px;display:inline-block;font-style:italic;\" id=\"362489\">362489</span><span style=\"padding-left:10px;width:650px;display:inline-block;\">blanc et l' indien , pour devenir comm les blancs les enfants du grand-père</span><span style=\"font-weight:bold;display:inline-block;width:200px;\">WASHINGTON</span><span>. — eh bien 1 monsieur , fit l' interprèt triomphant , êtes-yous enfin </span><hr/>"
      ],
      "text/plain": [
       "<IPython.core.display.HTML object>"
      ]
     },
     "metadata": {},
     "output_type": "display_data"
    },
    {
     "data": {
      "text/html": [
       "<span style=\"width:50px;display:inline-block;font-style:italic;\" id=\"362636\">362636</span><span style=\"padding-left:10px;width:650px;display:inline-block;\">plus de deux kilo-metres , navigable aux steamers du plus tort tonnage , fait</span><span style=\"font-weight:bold;display:inline-block;width:200px;\">WASHING-ON</span><span>aveo l' océan , à travers la baie de ghesapeake , après avoir arrosé </span><hr/>"
      ],
      "text/plain": [
       "<IPython.core.display.HTML object>"
      ]
     },
     "metadata": {},
     "output_type": "display_data"
    },
    {
     "data": {
      "text/html": [
       "<span style=\"width:50px;display:inline-block;font-style:italic;\" id=\"363079\">363079</span><span style=\"padding-left:10px;width:650px;display:inline-block;\">, m. louis simonin raconte , à ce sujet , dans son beau voyage</span><span style=\"font-weight:bold;display:inline-block;width:200px;\">WASHINGTON</span><span>à san-fran-cisco , que , au cimetière de boston , il y a peu </span><hr/>"
      ],
      "text/plain": [
       "<IPython.core.display.HTML object>"
      ]
     },
     "metadata": {},
     "output_type": "display_data"
    },
    {
     "data": {
      "text/html": [
       "<span style=\"width:50px;display:inline-block;font-style:italic;\" id=\"363710\">363710</span><span style=\"padding-left:10px;width:650px;display:inline-block;\">colonisateur de sa nouvelle patrie . acheté au mexique en 1834 par le gouvernement</span><span style=\"font-weight:bold;display:inline-block;width:200px;\">WASHINGTON</span><span>, moyennant la somme de dix millions de dollars , il fut incorporé jusqu' </span><hr/>"
      ],
      "text/plain": [
       "<IPython.core.display.HTML object>"
      ]
     },
     "metadata": {},
     "output_type": "display_data"
    },
    {
     "data": {
      "text/html": [
       "<span style=\"width:50px;display:inline-block;font-style:italic;\" id=\"372027\">372027</span><span style=\"padding-left:10px;width:650px;display:inline-block;\">poste que nous avons visité est dans une petite rue voisine de broadway et</span><span style=\"font-weight:bold;display:inline-block;width:200px;\">WASHINGTON</span><span>square . nous arrivons vers onze heures du soir , accompagnés d' un jeune </span><hr/>"
      ],
      "text/plain": [
       "<IPython.core.display.HTML object>"
      ]
     },
     "metadata": {},
     "output_type": "display_data"
    },
    {
     "data": {
      "text/html": [
       "<span style=\"width:50px;display:inline-block;font-style:italic;\" id=\"372033\">372033</span><span style=\"padding-left:10px;width:650px;display:inline-block;\">amende le luxe de cette mauvaise farce . nous devons partir dans deux jours</span><span style=\"font-weight:bold;display:inline-block;width:200px;\">WASHINGTON</span><span>, puis , revenant à new-york , commencer bientôt notre course à travers les </span><hr/>"
      ],
      "text/plain": [
       "<IPython.core.display.HTML object>"
      ]
     },
     "metadata": {},
     "output_type": "display_data"
    },
    {
     "data": {
      "text/html": [
       "<span style=\"width:50px;display:inline-block;font-style:italic;\" id=\"377070\">377070</span><span style=\"padding-left:10px;width:650px;display:inline-block;\">cet interdit . c' est le commodore schufeldt qui a été délégué parle gouvernement</span><span style=\"font-weight:bold;display:inline-block;width:200px;\">WASHINGTON</span><span>près du roi de corée avec mission d' obtenir , au besoin par la </span><hr/>"
      ],
      "text/plain": [
       "<IPython.core.display.HTML object>"
      ]
     },
     "metadata": {},
     "output_type": "display_data"
    },
    {
     "data": {
      "text/html": [
       "<span style=\"width:50px;display:inline-block;font-style:italic;\" id=\"378450\">378450</span><span style=\"padding-left:10px;width:650px;display:inline-block;\">de la terre de gilies de 80 ° à 81 ° 30 ' ,</span><span style=\"font-weight:bold;display:inline-block;width:200px;\">BARRINGTON</span><span>pour sonautorité · mais le récit de barrington est parfaitement d' accord avec la </span><hr/>"
      ],
      "text/plain": [
       "<IPython.core.display.HTML object>"
      ]
     },
     "metadata": {},
     "output_type": "display_data"
    },
    {
     "data": {
      "text/html": [
       "<span style=\"width:50px;display:inline-block;font-style:italic;\" id=\"378451\">378451</span><span style=\"padding-left:10px;width:650px;display:inline-block;\">à 81 ° 30 ' , prenant barrington pour sonautorité · mais le récit</span><span style=\"font-weight:bold;display:inline-block;width:200px;\">BARRINGTON</span><span>est parfaitement d' accord avec la carte de van keulen et avec les positions </span><hr/>"
      ],
      "text/plain": [
       "<IPython.core.display.HTML object>"
      ]
     },
     "metadata": {},
     "output_type": "display_data"
    },
    {
     "data": {
      "text/html": [
       "<span style=\"width:50px;display:inline-block;font-style:italic;\" id=\"386706\">386706</span><span style=\"padding-left:10px;width:650px;display:inline-block;\">ont failli être emportés jusqu' au dernier par cette inondation humaine . le sénat</span><span style=\"font-weight:bold;display:inline-block;width:200px;\">WASHINGTON</span><span>eut un moment de pitié . après une longue époque de spoliation , il </span><hr/>"
      ],
      "text/plain": [
       "<IPython.core.display.HTML object>"
      ]
     },
     "metadata": {},
     "output_type": "display_data"
    },
    {
     "data": {
      "text/html": [
       "<span style=\"width:50px;display:inline-block;font-style:italic;\" id=\"386714\">386714</span><span style=\"padding-left:10px;width:650px;display:inline-block;\">ce nom . le chef des chows , iron bull a porté ses doléances</span><span style=\"font-weight:bold;display:inline-block;width:200px;\">WASHINGTON</span><span>. ces indiens sont une race vigoureuse , énergiques brave et dévouée . ils </span><hr/>"
      ],
      "text/plain": [
       "<IPython.core.display.HTML object>"
      ]
     },
     "metadata": {},
     "output_type": "display_data"
    },
    {
     "data": {
      "text/html": [
       "<span style=\"width:50px;display:inline-block;font-style:italic;\" id=\"387869\">387869</span><span style=\"padding-left:10px;width:650px;display:inline-block;\">pas-perdus qui précède la chambre des représentants de la nation américaine , au capitole</span><span style=\"font-weight:bold;display:inline-block;width:200px;\">WASHINGTON</span><span>, le visiteur aperçoit une immense toile , peinteparl' artisteemmanuellentzé , un naturaliste venu </span><hr/>"
      ],
      "text/plain": [
       "<IPython.core.display.HTML object>"
      ]
     },
     "metadata": {},
     "output_type": "display_data"
    },
    {
     "data": {
      "text/html": [
       "<span style=\"width:50px;display:inline-block;font-style:italic;\" id=\"388963\">388963</span><span style=\"padding-left:10px;width:650px;display:inline-block;\">de la géographie amérique : nouvelles du canal de panama . — on écit</span><span style=\"font-weight:bold;display:inline-block;width:200px;\">WASHINGTON</span><span>que le ministre de la marine des étatsunis a reçu du capitaine meade , </span><hr/>"
      ],
      "text/plain": [
       "<IPython.core.display.HTML object>"
      ]
     },
     "metadata": {},
     "output_type": "display_data"
    },
    {
     "data": {
      "text/html": [
       "<span style=\"width:50px;display:inline-block;font-style:italic;\" id=\"389322\">389322</span><span style=\"padding-left:10px;width:650px;display:inline-block;\">gouvernement. chinois a fait cé qu' il ' a pu pour déterminer le cabinet</span><span style=\"font-weight:bold;display:inline-block;width:200px;\">WASHINGTON</span><span>à laisser ses nationaux en paix . il a même employé la menace : </span><hr/>"
      ],
      "text/plain": [
       "<IPython.core.display.HTML object>"
      ]
     },
     "metadata": {},
     "output_type": "display_data"
    },
    {
     "data": {
      "text/html": [
       "<span style=\"width:50px;display:inline-block;font-style:italic;\" id=\"393168\">393168</span><span style=\"padding-left:10px;width:650px;display:inline-block;\">arrosé de gin et souvent agrémenté de boxe ; ail leurs , l' hymme</span><span style=\"font-weight:bold;display:inline-block;width:200px;\">WASHINGTON</span><span>, humecté de grogs au tafia ; plus loin , le boje tsara khrani </span><hr/>"
      ],
      "text/plain": [
       "<IPython.core.display.HTML object>"
      ]
     },
     "metadata": {},
     "output_type": "display_data"
    },
    {
     "data": {
      "text/html": [
       "<span style=\"width:50px;display:inline-block;font-style:italic;\" id=\"399606\">399606</span><span style=\"padding-left:10px;width:650px;display:inline-block;\">se ^ présentait dans cette ville à l' élection , et il se rend</span><span style=\"font-weight:bold;display:inline-block;width:200px;\">WASHINGTON</span><span>afin de représenter le pays . la route de santa-fé était ouverte et le </span><hr/>"
      ],
      "text/plain": [
       "<IPython.core.display.HTML object>"
      ]
     },
     "metadata": {},
     "output_type": "display_data"
    },
    {
     "data": {
      "text/html": [
       "<span style=\"width:50px;display:inline-block;font-style:italic;\" id=\"404274\">404274</span><span style=\"padding-left:10px;width:650px;display:inline-block;\">, en 1858 , l' état de colombie avait passé , avec le cabinet</span><span style=\"font-weight:bold;display:inline-block;width:200px;\">WASHINGTON</span><span>, un traité par lequel les états-unis garantissaient la neutralité du territoire de colombie </span><hr/>"
      ],
      "text/plain": [
       "<IPython.core.display.HTML object>"
      ]
     },
     "metadata": {},
     "output_type": "display_data"
    },
    {
     "data": {
      "text/html": [
       "<span style=\"width:50px;display:inline-block;font-style:italic;\" id=\"404281\">404281</span><span style=\"padding-left:10px;width:650px;display:inline-block;\">sûr la proposition du général boerson , la commission des affaires étrangères des états</span><span style=\"font-weight:bold;display:inline-block;width:200px;\">WASHINGTON</span><span>fit accepter au sénat la proposition suivante : « personne ne pourra entreprendre aucuns </span><hr/>"
      ],
      "text/plain": [
       "<IPython.core.display.HTML object>"
      ]
     },
     "metadata": {},
     "output_type": "display_data"
    },
    {
     "data": {
      "text/html": [
       "<span style=\"width:50px;display:inline-block;font-style:italic;\" id=\"409411\">409411</span><span style=\"padding-left:10px;width:650px;display:inline-block;\">sont la californie , le né-vada , l' orégon . les territoires sont ceux</span><span style=\"font-weight:bold;display:inline-block;width:200px;\">WASHINGTON</span><span>, d' idaho , de montana , de dacotah , de wyoming , d' </span><hr/>"
      ],
      "text/plain": [
       "<IPython.core.display.HTML object>"
      ]
     },
     "metadata": {},
     "output_type": "display_data"
    },
    {
     "data": {
      "text/html": [
       "<span style=\"width:50px;display:inline-block;font-style:italic;\" id=\"409422\">409422</span><span style=\"padding-left:10px;width:650px;display:inline-block;\">celui de colombia ; il n' a que 142 kilomètres carrés de superficie et</span><span style=\"font-weight:bold;display:inline-block;width:200px;\">WASHINGTON</span><span>( 62,000 hab. ) , capitale fédérale des états-unis , siège ' du congrès </span><hr/>"
      ],
      "text/plain": [
       "<IPython.core.display.HTML object>"
      ]
     },
     "metadata": {},
     "output_type": "display_data"
    },
    {
     "data": {
      "text/html": [
       "<span style=\"width:50px;display:inline-block;font-style:italic;\" id=\"416162\">416162</span><span style=\"padding-left:10px;width:650px;display:inline-block;\">contre les anglais et les forcer a abandonner la possession des pays américains ,</span><span style=\"font-weight:bold;display:inline-block;width:200px;\">WASHINGTON</span><span>était le héros . a peine investi de ce commandement , paul jones conçut </span><hr/>"
      ],
      "text/plain": [
       "<IPython.core.display.HTML object>"
      ]
     },
     "metadata": {},
     "output_type": "display_data"
    },
    {
     "data": {
      "text/html": [
       "<span style=\"width:50px;display:inline-block;font-style:italic;\" id=\"416195\">416195</span><span style=\"padding-left:10px;width:650px;display:inline-block;\">et sans reproche des congratulations et des présents considérables . employé par le gouvernement</span><span style=\"font-weight:bold;display:inline-block;width:200px;\">WASHINGTON</span><span>, attaché plus tard au service de la . russie et du danemark , </span><hr/>"
      ],
      "text/plain": [
       "<IPython.core.display.HTML object>"
      ]
     },
     "metadata": {},
     "output_type": "display_data"
    },
    {
     "data": {
      "text/html": [
       "<span style=\"width:50px;display:inline-block;font-style:italic;\" id=\"417513\">417513</span><span style=\"padding-left:10px;width:650px;display:inline-block;\">récemment explorées par m. frédérik ober , sous les auspices de l' institut smithsonien</span><span style=\"font-weight:bold;display:inline-block;width:200px;\">WASHINGTON</span><span>. en décembre 1876 , m. ober partit pour la martinique , au centre </span><hr/>"
      ],
      "text/plain": [
       "<IPython.core.display.HTML object>"
      ]
     },
     "metadata": {},
     "output_type": "display_data"
    },
    {
     "data": {
      "text/html": [
       "<span style=\"width:50px;display:inline-block;font-style:italic;\" id=\"418204\">418204</span><span style=\"padding-left:10px;width:650px;display:inline-block;\">. cet illustre ingénieur est mort en 1869 , mais son fils , le</span><span style=\"font-weight:bold;display:inline-block;width:200px;\">WASHINGTON</span><span>roèbling , a exécuté le projet paternel sans en modifier les données principales . </span><hr/>"
      ],
      "text/plain": [
       "<IPython.core.display.HTML object>"
      ]
     },
     "metadata": {},
     "output_type": "display_data"
    },
    {
     "data": {
      "text/html": [
       "<span style=\"width:50px;display:inline-block;font-style:italic;\" id=\"418338\">418338</span><span style=\"padding-left:10px;width:650px;display:inline-block;\">cette grande ville de l' ohio , fondée par un détachement de troupes du</span><span style=\"font-weight:bold;display:inline-block;width:200px;\">WASHINGTON</span><span>, en 1788 , — ont une réputation qui lutte avec celle de york </span><hr/>"
      ],
      "text/plain": [
       "<IPython.core.display.HTML object>"
      ]
     },
     "metadata": {},
     "output_type": "display_data"
    },
    {
     "data": {
      "text/html": [
       "<span style=\"width:50px;display:inline-block;font-style:italic;\" id=\"418419\">418419</span><span style=\"padding-left:10px;width:650px;display:inline-block;\">lettres et une somme énorme d' or et d' argent monnayé appartenant au. gouvernement</span><span style=\"font-weight:bold;display:inline-block;width:200px;\">WASHINGTON</span><span>. le sauvetage du navire et de ceux qui le montent n' est pas </span><hr/>"
      ],
      "text/plain": [
       "<IPython.core.display.HTML object>"
      ]
     },
     "metadata": {},
     "output_type": "display_data"
    },
    {
     "data": {
      "text/html": [
       "<span style=\"width:50px;display:inline-block;font-style:italic;\" id=\"418464\">418464</span><span style=\"padding-left:10px;width:650px;display:inline-block;\">, en outre , plein pouvoir pour franklin , trois-mâts-goélette de new-york , le</span><span style=\"font-weight:bold;display:inline-block;width:200px;\">WASHINGTON</span><span>na vire à vapeur appartenant au port de la nouvelle-orléans , la queen-victoria goélette </span><hr/>"
      ],
      "text/plain": [
       "<IPython.core.display.HTML object>"
      ]
     },
     "metadata": {},
     "output_type": "display_data"
    },
    {
     "data": {
      "text/html": [
       "<span style=\"width:50px;display:inline-block;font-style:italic;\" id=\"418799\">418799</span><span style=\"padding-left:10px;width:650px;display:inline-block;\">multiples et presque instantanés , qui faisaient du francklin la victoria-queen , et du</span><span style=\"font-weight:bold;display:inline-block;width:200px;\">WASHINGTON</span><span>la sylphide , il n' eut pas un instant d' hésitation . le trois-mâts </span><hr/>"
      ],
      "text/plain": [
       "<IPython.core.display.HTML object>"
      ]
     },
     "metadata": {},
     "output_type": "display_data"
    },
    {
     "data": {
      "text/html": [
       "<span style=\"width:50px;display:inline-block;font-style:italic;\" id=\"419357\">419357</span><span style=\"padding-left:10px;width:650px;display:inline-block;\">de friquet lui revinrent à la mémoire . le flaxhant , du rhône et</span><span style=\"font-weight:bold;display:inline-block;width:200px;\">WASHINGTON</span><span>, le flaxhant des né griers , et l' auteur volontaire de l' effroyable </span><hr/>"
      ],
      "text/plain": [
       "<IPython.core.display.HTML object>"
      ]
     },
     "metadata": {},
     "output_type": "display_data"
    },
    {
     "data": {
      "text/html": [
       "<span style=\"width:50px;display:inline-block;font-style:italic;\" id=\"420915\">420915</span><span style=\"padding-left:10px;width:650px;display:inline-block;\">rent leurs demeures ou en construisent de nouvelles avec un redoublement d' activité .</span><span style=\"font-weight:bold;display:inline-block;width:200px;\">WASHINGTON</span><span>, dans la colonie que j' avais fondée , ces infatigables travailleurs avaient élu </span><hr/>"
      ],
      "text/plain": [
       "<IPython.core.display.HTML object>"
      ]
     },
     "metadata": {},
     "output_type": "display_data"
    },
    {
     "data": {
      "text/html": [
       "<span style=\"width:50px;display:inline-block;font-style:italic;\" id=\"421726\">421726</span><span style=\"padding-left:10px;width:650px;display:inline-block;\">gorille . j' avais dit adieu au roi mbondemo , et j' étais revenu</span><span style=\"font-weight:bold;display:inline-block;width:200px;\">WASHINGTON</span><span>, ma seconde patrie , la colonie quo j' avais fondée au pays dos </span><hr/>"
      ],
      "text/plain": [
       "<IPython.core.display.HTML object>"
      ]
     },
     "metadata": {},
     "output_type": "display_data"
    },
    {
     "data": {
      "text/html": [
       "<span style=\"width:50px;display:inline-block;font-style:italic;\" id=\"422407\">422407</span><span style=\"padding-left:10px;width:650px;display:inline-block;\">une somme de cent mille dollars en eagles' d ' or pour la transmettre</span><span style=\"font-weight:bold;display:inline-block;width:200px;\">WASHINGTON</span><span>au trésor du gouvernement . ' cet avis fut , par ordre , immédiatement </span><hr/>"
      ],
      "text/plain": [
       "<IPython.core.display.HTML object>"
      ]
     },
     "metadata": {},
     "output_type": "display_data"
    },
    {
     "data": {
      "text/html": [
       "<span style=\"width:50px;display:inline-block;font-style:italic;\" id=\"422460\">422460</span><span style=\"padding-left:10px;width:650px;display:inline-block;\">qu' à nous laisser porter par le courant pour arriver à notre chère colonie</span><span style=\"font-weight:bold;display:inline-block;width:200px;\">WASHINGTON</span><span>, où nous attendait un repos bien mérité ! paul du chaillu . ( </span><hr/>"
      ],
      "text/plain": [
       "<IPython.core.display.HTML object>"
      ]
     },
     "metadata": {},
     "output_type": "display_data"
    },
    {
     "data": {
      "text/html": [
       "<span style=\"width:50px;display:inline-block;font-style:italic;\" id=\"423231\">423231</span><span style=\"padding-left:10px;width:650px;display:inline-block;\">, à l' aide de grosses aiguilles que j' avais rapportées de ma colonie</span><span style=\"font-weight:bold;display:inline-block;width:200px;\">WASHINGTON</span><span>et dé fil tiré des feuilles de l' ananas , je réussis à faire </span><hr/>"
      ],
      "text/plain": [
       "<IPython.core.display.HTML object>"
      ]
     },
     "metadata": {},
     "output_type": "display_data"
    },
    {
     "data": {
      "text/html": [
       "<span style=\"width:50px;display:inline-block;font-style:italic;\" id=\"423758\">423758</span><span style=\"padding-left:10px;width:650px;display:inline-block;\">départ . ” ” adieux & obindji et à querlaouen . ” ” armée</span><span style=\"font-weight:bold;display:inline-block;width:200px;\">WASHINGTON</span><span>. ii y avait déjà plusieurs mois que j' explorais les rives de l' </span><hr/>"
      ],
      "text/plain": [
       "<IPython.core.display.HTML object>"
      ]
     },
     "metadata": {},
     "output_type": "display_data"
    },
    {
     "data": {
      "text/html": [
       "<span style=\"width:50px;display:inline-block;font-style:italic;\" id=\"423760\">423760</span><span style=\"padding-left:10px;width:650px;display:inline-block;\">étais plus que le squelette de moi-même . j' avais donc résolu de retourner</span><span style=\"font-weight:bold;display:inline-block;width:200px;\">WASHINGTON</span><span>, la colonie que j' avais fondée au bord de la mer . je </span><hr/>"
      ],
      "text/plain": [
       "<IPython.core.display.HTML object>"
      ]
     },
     "metadata": {},
     "output_type": "display_data"
    },
    {
     "data": {
      "text/html": [
       "<span style=\"width:50px;display:inline-block;font-style:italic;\" id=\"423768\">423768</span><span style=\"padding-left:10px;width:650px;display:inline-block;\">de vue . quengueza avait d' abord conçu le projet de m' accompagner jusqu'</span><span style=\"font-weight:bold;display:inline-block;width:200px;\">WASHINGTON</span><span>. en route , une foule de ses sujets , des goumbis , se </span><hr/>"
      ],
      "text/plain": [
       "<IPython.core.display.HTML object>"
      ]
     },
     "metadata": {},
     "output_type": "display_data"
    },
    {
     "data": {
      "text/html": [
       "<span style=\"width:50px;display:inline-block;font-style:italic;\" id=\"424722\">424722</span><span style=\"padding-left:10px;width:650px;display:inline-block;\">maraudaient chez eux . il est vrai que , tous nous nous étions munis</span><span style=\"font-weight:bold;display:inline-block;width:200px;\">WASHINGTON</span><span>, dans le indian bureau , de la médaille protectrice qui servait de passeport </span><hr/>"
      ],
      "text/plain": [
       "<IPython.core.display.HTML object>"
      ]
     },
     "metadata": {},
     "output_type": "display_data"
    },
    {
     "data": {
      "text/html": [
       "<span style=\"width:50px;display:inline-block;font-style:italic;\" id=\"426439\">426439</span><span style=\"padding-left:10px;width:650px;display:inline-block;\">départ . ” ” adieux à obindji et à querlaouen . ” ” arri-vée</span><span style=\"font-weight:bold;display:inline-block;width:200px;\">WASHINGTON</span><span>.......... 228 voyages prodigieux les émotions de polydore marasquin i. ” ” origine de </span><hr/>"
      ],
      "text/plain": [
       "<IPython.core.display.HTML object>"
      ]
     },
     "metadata": {},
     "output_type": "display_data"
    }
   ],
   "source": [
    "text = widgets.Text(value=\"0\",width=\"120px\")\n",
    "submit = widgets.Button(description=\"Submit\",width=\"70px\")\n",
    "next_button = widgets.Button(description=\">>\",width=\"40px\",id=\"prev\")\n",
    "prev_button = widgets.Button(description=\"<<\",width=\"40px\")\n",
    "delete = widgets.Button(description=\"Delete All\",width=\"60px\")\n",
    "export = widgets.Button(description=\"Export\",width=\"60px\")\n",
    "\n",
    "\n",
    "coords_button = widgets.Button(description=\"ChangeCoords\",width=\"120px\")\n",
    "lat_text = widgets.Text(width=\"200px\",description=\"Lat\")\n",
    "lon_text = widgets.Text(width=\"200px\",description=\"Lon\")\n",
    "notification = widgets.Label()\n",
    "term_search=widgets.Text(value=\"\",width=\"240px\",description=\"\\t \")\n",
    "term_search_button=widgets.Button(value=\"\",width=\"70px\",description=\"Search\")\n",
    "\n",
    "display(widgets.HBox((prev_button,next_button,text,submit,delete,export,lat_text,lon_text,coords_button,term_search,term_search_button)))\n",
    "display(notification)\n",
    "\n",
    "text.on_submit(handle_submit)\n",
    "submit.on_click(handle_submit)\n",
    "next_button.on_click(increment_text)\n",
    "prev_button.on_click(decrease_text)\n",
    "export.on_click(export_clicked)\n",
    "delete.on_click(delete_clicked)\n",
    "coords_button.on_click(change_coords)\n",
    "term_search_button.on_click(return_index)\n",
    "term_search.on_submit(return_index)\n",
    "\n",
    "notification.value = unicode(\"Click Submit to Begin!\")"
   ]
  },
  {
   "cell_type": "code",
   "execution_count": null,
   "metadata": {
    "collapsed": true
   },
   "outputs": [],
   "source": []
  }
 ],
 "metadata": {
  "kernelspec": {
   "display_name": "Python 2",
   "language": "python",
   "name": "python2"
  },
  "widgets": {
   "state": {
    "09a79743a5b849a2a9fe1aea20f82505": {
     "views": [
      {
       "cell_index": 4
      }
     ]
    },
    "0ea7ba61da4d49f983c31440294bae44": {
     "views": [
      {
       "cell_index": 4
      }
     ]
    },
    "153fd7064b6d4e2da439a5ac5dd54985": {
     "views": [
      {
       "cell_index": 4
      }
     ]
    },
    "1c4c70d0fe474dff9752ac78f8da4418": {
     "views": [
      {
       "cell_index": 4
      }
     ]
    },
    "1f9b6803aa974d06ac7d17bd5358f6a6": {
     "views": [
      {
       "cell_index": 4
      }
     ]
    },
    "21cb78de78eb4f228a7e7a5c68019db7": {
     "views": [
      {
       "cell_index": 4
      }
     ]
    },
    "25204098468c4a3d96e2572424289fae": {
     "views": [
      {
       "cell_index": 4
      }
     ]
    },
    "28f4a3fc18c0461cac0ca7be86c39b68": {
     "views": [
      {
       "cell_index": 4
      }
     ]
    },
    "2eb6454d1884419ba0e90ab9ec765341": {
     "views": [
      {
       "cell_index": 4
      }
     ]
    },
    "312b81e3fe8c47619354c9d95a8b01f7": {
     "views": [
      {
       "cell_index": 4
      }
     ]
    },
    "3174c18943394eecb9836407ad5d23e9": {
     "views": [
      {
       "cell_index": 4
      }
     ]
    },
    "4803206ab94f4adda1fa7e51142c0245": {
     "views": [
      {
       "cell_index": 4
      }
     ]
    },
    "4dc4fc87555e4d75978e3d115f31a1c9": {
     "views": [
      {
       "cell_index": 4
      }
     ]
    },
    "4e8fcf01022745eebd1f511f405406a3": {
     "views": [
      {
       "cell_index": 4
      }
     ]
    },
    "55e7729f97a04736b3e7beed2f446632": {
     "views": [
      {
       "cell_index": 4
      }
     ]
    },
    "6240d9504daf42eca21137b92e2e4c00": {
     "views": [
      {
       "cell_index": 4
      }
     ]
    },
    "6560b404964d4754b7d82435f7652402": {
     "views": [
      {
       "cell_index": 4
      }
     ]
    },
    "6e5c818b67694fe0889702edf676b615": {
     "views": [
      {
       "cell_index": 4
      }
     ]
    },
    "7669e15d0c4248548367cb282a057bf5": {
     "views": [
      {
       "cell_index": 4
      }
     ]
    },
    "86743b7f493b420881a4536a5e814c04": {
     "views": [
      {
       "cell_index": 4
      }
     ]
    },
    "8fd4cb0ef9a14988afdce7f66d237b5b": {
     "views": [
      {
       "cell_index": 4
      }
     ]
    },
    "963da854cdf5439cbd302929227d4f04": {
     "views": [
      {
       "cell_index": 4
      }
     ]
    },
    "9a3f6807801a4e27af8830b01b403955": {
     "views": [
      {
       "cell_index": 4
      }
     ]
    },
    "9b22697cf4a74bee8fa8263923af0ce2": {
     "views": [
      {
       "cell_index": 4
      }
     ]
    },
    "a23cee4745f24fe6a566805ce0e39d09": {
     "views": [
      {
       "cell_index": 4
      }
     ]
    },
    "ad26b8d3b1a942de86c00c18d02aa35d": {
     "views": [
      {
       "cell_index": 4
      }
     ]
    },
    "c2c6edefd18a4a65b190a5fd84a89540": {
     "views": [
      {
       "cell_index": 4
      }
     ]
    },
    "d538e4b905364978b76484bf1823ed92": {
     "views": [
      {
       "cell_index": 4
      }
     ]
    },
    "d61e07b88f694e2eae9a7283c1a74c19": {
     "views": [
      {
       "cell_index": 4
      }
     ]
    },
    "e4411dc2bdd344cea2ad0c623597d157": {
     "views": [
      {
       "cell_index": 4
      }
     ]
    },
    "e6004bcbffa145cdac13d6dce9612b46": {
     "views": [
      {
       "cell_index": 4
      }
     ]
    },
    "ee42de2ba4524486bf54dbf6b581a30a": {
     "views": [
      {
       "cell_index": 4
      }
     ]
    },
    "ee976eaee0854c5a903bc969887f10d3": {
     "views": [
      {
       "cell_index": 4
      }
     ]
    },
    "f7f469f395c44deeb3373dce6504698f": {
     "views": [
      {
       "cell_index": 4
      }
     ]
    }
   },
   "version": "1.2.0"
  }
 },
 "nbformat": 4,
 "nbformat_minor": 0
}
